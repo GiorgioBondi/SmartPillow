{
 "cells": [
  {
   "cell_type": "markdown",
   "metadata": {},
   "source": [
    "# Sensors cheatsheet"
   ]
  },
  {
   "cell_type": "markdown",
   "metadata": {},
   "source": [
    "### Before starting... download an overlay!\n",
    "\n",
    "Before using the sensors, you need to download an overlay on the FPGA.\n",
    "You can either download the pmod.bit or the audiovideo.bit overlay depending on your needs:\n",
    "\n",
    "* **pmod.bit** allows you to use the PMOD JB, JC, JD and JE.\n",
    "\n"
   ]
  },
  {
   "cell_type": "code",
   "execution_count": 9,
   "metadata": {
    "collapsed": true
   },
   "outputs": [],
   "source": [
    "from pynq.pl import Overlay\n",
    "Overlay(\"pmod.bit\").download()"
   ]
  },
  {
   "cell_type": "markdown",
   "metadata": {},
   "source": [
    "* **audiovideo.bit** allows you to use the PMOD JB, VGA connector, HDMI connector and the audio connectors"
   ]
  },
  {
   "cell_type": "code",
   "execution_count": 10,
   "metadata": {
    "collapsed": true
   },
   "outputs": [],
   "source": [
    "from pynq.pl import Overlay\n",
    "Overlay(\"audiovideo.bit\").download()"
   ]
  },
  {
   "cell_type": "markdown",
   "metadata": {},
   "source": [
    "### Analog sensors connected via Grove I2C ADC\n",
    "\n",
    "This exampe applies to the following sensors connected via the [Grove I2C ADC](http://www.seeedstudio.com/wiki/Grove_-_I2C_ADC)\n",
    "* [Light sensor](http://www.seeedstudio.com/wiki/Grove_-_IMU_9DOF)\n",
    "* [Gas O2 sensor](http://www.seeedstudio.com/wiki/Grove_-_Gas_Sensor%28O%E2%82%82%29)\n",
    "* [Loudness sensor](http://www.seeedstudio.com/wiki/Grove_-_Loudness_Sensor)\n",
    "* [EMG detector](http://www.seeedstudio.com/wiki/Grove_-_EMG_Detector)\n",
    "* [GSR sensor](http://www.seeedstudio.com/wiki/Grove_-_GSR_Sensor)\n",
    "\n",
    "<br/>\n",
    "**IMPORTANT:** the ADC J1 connector must be connected to the Board, while the J2 connector must be connected to the sensor.\n",
    "<br/>\n",
    "Sensor connection via StickIt and Grove I2C ADC:\n",
    "<img src=\"img/grove-adc.jpg\" alt=\"Drawing\" style=\"width: 400px;\"/>\n",
    "<br/>\n",
    "Sensor connection via cables and Grove I2C ADC:\n",
    "<img src=\"img/grove-adc-cables.jpg\" alt=\"Drawing\" style=\"width: 400px;\"/>\n"
   ]
  },
  {
   "cell_type": "code",
   "execution_count": 98,
   "metadata": {
    "collapsed": false,
    "scrolled": true
   },
   "outputs": [
    {
     "name": "stdout",
     "output_type": "stream",
     "text": [
      "Current voltage: 0.0V\n",
      "Voltage values: [0.0015, 0.0, 0.0, 0.0015, 0.0, 0.0091, 0.0, 0.0182, 0.0, 0.0288, 0.0, 0.0348, 0.0, 0.0469, 0.0015, 0.0636, 0.0015, 0.0605, 0.0, 0.0333, 0.003, 0.0015, 0.0227, 0.0, 0.0303, 0.0, 0.0333, 0.0015, 0.0515, 0.0, 0.0575, 0.0, 0.0969, 0.0, 0.1211, 0.0, 0.1135, 0.0076, 0.0742, 0.0333, 0.0394, 0.0545, 0.0091, 0.0742, 0.0, 0.0954, 0.0015, 0.1135, 0.0015, 0.1377, 0.0, 0.1695, 0.0, 0.1589, 0.0106, 0.1544, 0.0439, 0.1317, 0.0833, 0.1014, 0.112, 0.0787, 0.1438, 0.0696, 0.1922, 0.0923, 0.2467, 0.0999, 0.3027, 0.1211, 0.33, 0.1544, 0.3073, 0.171, 0.2619, 0.1922, 0.2028, 0.1892, 0.1468, 0.1907, 0.1029, 0.1862, 0.0651, 0.1907, 0.0348, 0.218, 0.0242, 0.221, 0.0257, 0.1983, 0.0575, 0.1665, 0.0969, 0.1438, 0.1423]\n"
     ]
    },
    {
     "data": {
      "image/png": "[encoded data removed]",
      "text/plain": [
       "<matplotlib.figure.Figure at 0x30f10f50>"
      ]
     },
     "metadata": {},
     "output_type": "display_data"
    }
   ],
   "source": [
    "%matplotlib inline\n",
    "from pynq.pmods import Grove_ADC\n",
    "import time\n",
    "import matplotlib.pyplot as plt\n",
    "\n",
    "# initialize ADC on PMOD 1 (JB) and grove id 4 (GR4).\n",
    "# PMOD mapping is: PMOD 1 -> JB, PMOD 2 -> JC, PMOD 3 -> JD, PMOD 4 -> JE\n",
    "# NOTE: only GR4 and GR3 can be used for the Grove ADC\n",
    "\n",
    "grove_adc = Grove_ADC(1, 4)\n",
    "\n",
    "# read current tension value and print it\n",
    "value = grove_adc.read()\n",
    "print(\"Current voltage: \" + str(value) + \"V\")\n",
    "\n",
    "# set logging interval\n",
    "grove_adc.set_log_interval_ms(10)\n",
    "\n",
    "# start logging\n",
    "grove_adc.start_log()\n",
    "\n",
    "# wait for 1 second...\n",
    "time.sleep(1)\n",
    "\n",
    "# get and stop logging\n",
    "values = grove_adc.get_log()\n",
    "print(\"Voltage values: \" + str(values))\n",
    "\n",
    "# draw graph\n",
    "plt.plot(range(len(values)), values, 'r')\n",
    "plt.title('ADC data')\n",
    "plt.show()"
   ]
  },
  {
   "cell_type": "markdown",
   "metadata": {},
   "source": [
    "### Analog sensors connected via Diligent ADC AD2 (SPI)\n",
    "\n",
    "This exampe applies to the following sensors connected via the [Diligent ADC AD2](https://reference.digilentinc.com/_media/pmod:pmod:pmodAD2_rm.pdf)\n",
    "* [Light sensor](http://www.seeedstudio.com/wiki/Grove_-_IMU_9DOF)\n",
    "* [Gas O2 sensor](http://www.seeedstudio.com/wiki/Grove_-_Gas_Sensor%28O%E2%82%82%29)\n",
    "* [Loudness sensor](http://www.seeedstudio.com/wiki/Grove_-_Loudness_Sensor)\n",
    "* [EMG detector](http://www.seeedstudio.com/wiki/Grove_-_EMG_Detector)\n",
    "* [GSR sensor](http://www.seeedstudio.com/wiki/Grove_-_GSR_Sensor)\n",
    "\n",
    "The DAC AD2 has 4 input channels (V1, V2, V3, V4) with a 12 bit resolution.\n",
    "However, only the first 3 channels (V1, V2, V3) can be used due to jumper JP1 setting that **MUST** be positioned on **REF**.\n",
    "\n",
    "Sensor connection (3 cables required):\n",
    "<img src=\"img/pmod-ad2-cables.jpg\" style=\"width:400px\"/>"
   ]
  },
  {
   "cell_type": "code",
   "execution_count": 4,
   "metadata": {
    "collapsed": false
   },
   "outputs": [
    {
     "name": "stdout",
     "output_type": "stream",
     "text": [
      "Current voltage: 0.0234V\n",
      "Voltage values: [1.8418, 1.8105, 1.7793, 1.7773, 1.8105, 1.8418, 1.8428, 1.8115, 1.7793, 1.7773, 1.7793, 1.8105, 1.8418, 1.8115, 1.8105, 1.7773, 1.7793, 1.8105, 1.8418, 1.8418, 1.8105, 1.7793, 1.7773, 1.8105, 1.8418, 1.8418, 1.8105, 1.7793, 1.7773, 1.8086, 1.8115, 1.8428, 1.8115, 1.8086, 1.7773, 1.7793, 1.8105, 1.812, 1.8105, 1.7617, 1.6836, 1.6245, 1.6855, 1.7168, 1.6865, 1.6543, 1.5918, 1.5605, 1.5615, 1.623, 1.6543, 1.5605, 1.5117, 1.4355, 1.4648, 1.5117, 1.5293, 1.5273, 1.5117, 1.4648, 1.5117, 1.5273, 1.5605, 1.5586, 1.5273, 1.5117, 1.5117, 1.5273, 1.5605, 1.5605, 1.5293, 1.5117, 1.5117, 1.5273, 1.5586, 1.5605, 1.5293, 1.5117, 1.4648, 1.5117, 1.5273, 1.5273, 1.4355, 1.3711, 1.3086, 1.3086, 1.3115]\n"
     ]
    },
    {
     "data": {
      "image/png": "[encoded data removed]",
      "text/plain": [
       "<matplotlib.figure.Figure at 0x30e5d670>"
      ]
     },
     "metadata": {},
     "output_type": "display_data"
    }
   ],
   "source": [
    "%matplotlib inline\n",
    "from pynq.pmods import PMOD_ADC\n",
    "import time\n",
    "import matplotlib.pyplot as plt\n",
    "\n",
    "# initialize ADC on PMOD 1 (JB).\n",
    "# The ADC DA4 has 4 input channels at 12 bit resolution, however only the first 3: \n",
    "# V1, V2 and V3 (form 0 to 2) can be used.\n",
    "# PMOD mapping is: PMOD 1 -> JB, PMOD 2 -> JC, PMOD 3 -> JD, PMOD 4 -> JE\n",
    "pmod_adc = PMOD_ADC(1)\n",
    "\n",
    "# read the tension value for V1 (V1 -> 0) and print it\n",
    "value = pmod_adc.read(0)\n",
    "print(\"Current voltage: \" + str(value) + \"V\")\n",
    "\n",
    "# start logging on V3 (V3 -> 2) with log interval of 10 ms\n",
    "# NOTE: the current driver allows to log only one input at a time,\n",
    "# to get data from multiple inputs at the same time you need to get them manually within a loop\n",
    "pmod_adc.start_log(2, 10)\n",
    "\n",
    "# wait for 1 second...\n",
    "time.sleep(1)\n",
    "\n",
    "# get and stop logging\n",
    "values = pmod_adc.get_log()\n",
    "print(\"Voltage values: \" + str(values))\n",
    "\n",
    "# draw graph\n",
    "plt.plot(range(len(values)), values, 'r')\n",
    "plt.title('ADC data')\n",
    "plt.show()"
   ]
  },
  {
   "cell_type": "markdown",
   "metadata": {},
   "source": [
    "### Grove IMU 10DOF\n",
    "\n",
    "[Sensor documentation](http://www.seeedstudio.com/wiki/Grove_-_IMU_10DOF)\n",
    "<br/>\n",
    "Sensor connection via StickIt:\n",
    "<img src=\"img/imu.jpg\" style=\"width:400px\"/>\n",
    "\n",
    "<br/>\n",
    "Sensor connection via cables (4 cables needed):\n",
    "<img src=\"img/imu-cable.jpg\" style=\"width:400px\"/>"
   ]
  },
  {
   "cell_type": "code",
   "execution_count": 1,
   "metadata": {
    "collapsed": false
   },
   "outputs": [
    {
     "name": "stdout",
     "output_type": "stream",
     "text": [
      "Accelerometer x: -0.99\n",
      "Accelerometer y: -0.12\n",
      "Accelerometer z: -0.0\n",
      "\n",
      "Gyroscope x: 1.01\n",
      "Gyroscope y: 0.53\n",
      "Gyroscope z: 2.41\n",
      "\n",
      "Compass x: -14.94\n",
      "Compass y: 41.6\n",
      "Compass z: 19.04\n",
      "\n",
      "temperature: 27.3\n",
      "pressure: 100060.0\n",
      "altitude: 105.53\n"
     ]
    }
   ],
   "source": [
    "%matplotlib inline\n",
    "from pynq.pmods import Grove_IMU\n",
    "from IPython import display\n",
    "from ipywidgets import widgets\n",
    "\n",
    "# initialize Grove IMU on PMOD 1 (JB) and grove id 4 (GR4).\n",
    "# PMOD mapping is: PMOD 1 -> JB, PMOD 2 -> JC, PMOD 3 -> JD, PMOD 4 -> JE\n",
    "# NOTE: only GR4 can be used for the Grove IMU\n",
    "imu = Grove_IMU(1,4)\n",
    "\n",
    "while(True):\n",
    "    try:\n",
    "\n",
    "        # get data from accelerometer\n",
    "        accl = imu.get_accl()\n",
    "        \n",
    "        # get data from gyroscope\n",
    "        gyro = imu.get_gyro()\n",
    "\n",
    "        # get data from compass\n",
    "        compass = imu.get_compass()\n",
    "        \n",
    "        # get temperature\n",
    "        temperature = imu.get_temperature()\n",
    "\n",
    "        # get pressure in Pa\n",
    "        pressure = imu.get_pressure()\n",
    "\n",
    "        # get altitude (this is derived from pressure)\n",
    "        altitude = imu.get_altitude()\n",
    "            \n",
    "        # clear screen and display new values\n",
    "        display.clear_output(wait=True)\n",
    "\n",
    "        print(\"Accelerometer x: \" + str(accl[0]))\n",
    "        print(\"Accelerometer y: \" + str(accl[1]))\n",
    "        print(\"Accelerometer z: \" + str(accl[2]))\n",
    "        print(\"\")\n",
    "        print(\"Gyroscope x: \" + str(gyro[0]))\n",
    "        print(\"Gyroscope y: \" + str(gyro[1]))\n",
    "        print(\"Gyroscope z: \" + str(gyro[2]))\n",
    "        print(\"\")\n",
    "        print(\"Compass x: \" + str(compass[0]))\n",
    "        print(\"Compass y: \" + str(compass[1]))\n",
    "        print(\"Compass z: \" + str(compass[2]))\n",
    "        print(\"\")\n",
    "        print(\"temperature: \" + str(temperature))\n",
    "        print(\"pressure: \" + str(pressure))\n",
    "        print(\"altitude: \" + str(altitude))\n",
    "\n",
    "    except KeyboardInterrupt:\n",
    "        # exit without showing errors if the stop button in Jupyter is pressed\n",
    "        break"
   ]
  },
  {
   "cell_type": "markdown",
   "metadata": {},
   "source": [
    "In order to take advantage of the additonal method **get_motion** which provides accelerometer and gyroscope information in a single call with much higher sampling rate, you may need to install the extra drivers following these steps:\n",
    "\n",
    "* Download the extra drivers archive by [clicking here](http://xph.necst.it/2016/hardware/extra-drivers.tar)\n",
    "* Access the board xpp disk from your system\n",
    "* Copy the archive directly within the xpp drive (not within a subfolder)\n",
    "* Execute the following code from Jupyter (the Jupyter of your board... NOT your local Jupyter!)"
   ]
  },
  {
   "cell_type": "code",
   "execution_count": null,
   "metadata": {
    "collapsed": true
   },
   "outputs": [],
   "source": [
    "!cd /home/xpp && tar -xvf extra-drivers.tar && cd drivers_archive && ./install.sh"
   ]
  },
  {
   "cell_type": "markdown",
   "metadata": {},
   "source": [
    "* Close and re-open Jupyter\n",
    "\n",
    "Once the driver has been installed, test the sensor with the following code.\n"
   ]
  },
  {
   "cell_type": "code",
   "execution_count": 12,
   "metadata": {
    "collapsed": false
   },
   "outputs": [],
   "source": [
    "%matplotlib inline\n",
    "from pynq.pmods import Grove_IMU\n",
    "from IPython import display\n",
    "from ipywidgets import widgets\n",
    "import time\n",
    "\n",
    "# initialize Grove IMU on PMOD 1 (JB) and grove id 4 (GR4).\n",
    "# PMOD mapping is: PMOD 1 -> JB, PMOD 2 -> JC, PMOD 3 -> JD, PMOD 4 -> JE\n",
    "# NOTE: only GR4 can be used for the Grove IMU\n",
    "imu = Grove_IMU(1,4)\n",
    "\n",
    "directions = [\"X\", \"Y\", \"Z\"]\n",
    "acclBars = []\n",
    "gyroBars = []\n",
    "for d in directions:\n",
    "    bar = widgets.FloatSlider(min=-2, max=2, description=\"Accelerometer \" + d)\n",
    "    acclBars.append(bar)\n",
    "    display.display(bar)\n",
    "for d in directions:\n",
    "    bar = widgets.FloatSlider(min=-250, max=250, description=\"Gyroscope \" + d)\n",
    "    gyroBars.append(bar)\n",
    "    display.display(bar)\n",
    "\n",
    "gyroBars[0].margin = \"20px 0px 0px 0px\"\n",
    "    \n",
    "while(True):\n",
    "    try:\n",
    "\n",
    "        # get data from accelerometer\n",
    "        motion = imu.get_motion()\n",
    "        \n",
    "        accl = (motion[0], motion[1], motion[2])\n",
    "        gyro = (motion[3], motion[4], motion[5])\n",
    "            \n",
    "        for i in range(3):\n",
    "            acclBars[i].value = accl[i]\n",
    "        for i in range(3):\n",
    "            gyroBars[i].value = gyro[i]\n",
    "\n",
    "    except KeyboardInterrupt:\n",
    "        # exit without showing errors if the stop button in Jupyter is pressed\n",
    "        break"
   ]
  },
  {
   "cell_type": "markdown",
   "metadata": {
    "collapsed": true
   },
   "source": [
    "### Ambient light sensor\n",
    "\n",
    "[Sensor documentation](https://reference.digilentinc.com/_media/pmod:pmod:pmodALS_rm.pdf)\n",
    "\n",
    "The sensor must be connected using the **top socket pins** of the PMOD connector as shown in the figure:\n",
    "\n",
    "<img src=\"img/pmod-als.jpg\" style=\"width:400px\"/>"
   ]
  },
  {
   "cell_type": "code",
   "execution_count": 14,
   "metadata": {
    "collapsed": false
   },
   "outputs": [
    {
     "name": "stdout",
     "output_type": "stream",
     "text": [
      "Light value: 25\n",
      "Light values: [31, 26, 26, 26, 26, 26, 26, 26, 26, 26, 26, 25, 25, 25, 4, 3, 6, 3, 1, 0, 1, 0, 1, 0, 1, 0, 1, 0, 1, 0, 1, 0, 1, 0, 1, 0, 1, 0, 17, 25, 25, 26, 26, 26, 26, 27, 27, 27, 27, 27, 27, 27, 27, 27, 27, 27, 27, 27, 27, 27, 27]\n"
     ]
    },
    {
     "data": {
      "image/png": "[encoded data removed]",
      "text/plain": [
       "<matplotlib.figure.Figure at 0x30d5e4b0>"
      ]
     },
     "metadata": {},
     "output_type": "display_data"
    }
   ],
   "source": [
    "%matplotlib inline\n",
    "from pynq.pmods import PMOD_ALS\n",
    "import time\n",
    "import matplotlib.pyplot as plt\n",
    "\n",
    "# initialize ALS on PMOD 1 (JB).\n",
    "# PMOD mapping is: PMOD 1 -> JB, PMOD 2 -> JC, PMOD 3 -> JD, PMOD 4 -> JE\n",
    "\n",
    "pmod_als = PMOD_ALS(1)\n",
    "\n",
    "# read current light value and print it\n",
    "value = pmod_als.read()\n",
    "print(\"Light value: \" + str(value))\n",
    "\n",
    "# set logging interval\n",
    "pmod_als.set_log_interval_ms(50)\n",
    "\n",
    "# start logging\n",
    "pmod_als.start_log()\n",
    "\n",
    "# wait for 3 seconds...\n",
    "time.sleep(3)\n",
    "\n",
    "# get and stop logging\n",
    "values = pmod_als.get_log()\n",
    "print(\"Light values: \" + str(values))\n",
    "\n",
    "# draw graph\n",
    "plt.plot(range(len(values)), values, 'r')\n",
    "plt.title('ALS data')\n",
    "plt.show()"
   ]
  },
  {
   "cell_type": "markdown",
   "metadata": {},
   "source": [
    "### Temperature TMP2\n",
    "\n",
    "[Sensor documentation](https://reference.digilentinc.com/_media/pmod:pmod:pmodTMP2_rm.pdf)\n",
    "\n",
    "The sensor must be connected using the **left socket pins** of the PMOD connector as shown in the figure:\n",
    "\n",
    "<img src=\"img/pmod-tmp2.jpg\" style=\"width:400px\"/>"
   ]
  },
  {
   "cell_type": "code",
   "execution_count": 3,
   "metadata": {
    "collapsed": false
   },
   "outputs": [
    {
     "name": "stdout",
     "output_type": "stream",
     "text": [
      "Light value: 28.1\n",
      "Light values: [28.1, 28.1, 28.1, 28.1, 28.1, 28.1, 28.1, 28.1, 28.1, 28.1, 28.1, 28.1, 28.1, 28.1, 28.1, 28.1, 28.1, 28.1, 28.1, 28.1, 28.1, 28.1, 28.1, 28.1, 28.1, 28.1, 28.1, 28.1, 28.1, 28.1, 28.1, 28.1, 28.1, 28.2, 28.2, 28.2, 28.2, 28.2, 28.4, 28.4, 28.4, 28.4, 28.4, 28.6, 28.6, 28.6, 28.6, 28.8, 28.8, 28.8, 28.8, 28.8, 28.8, 28.8, 28.8, 28.8, 28.8, 28.9, 28.9, 28.9]\n"
     ]
    },
    {
     "data": {
      "image/png": "[encoded data removed]",
      "text/plain": [
       "<matplotlib.figure.Figure at 0x311ff450>"
      ]
     },
     "metadata": {},
     "output_type": "display_data"
    }
   ],
   "source": [
    "%matplotlib inline\n",
    "from pynq.pmods import PMOD_TMP2\n",
    "import time\n",
    "import matplotlib.pyplot as plt\n",
    "\n",
    "# initialize TMP2 on PMOD 1 (JB).\n",
    "# PMOD mapping is: PMOD 1 -> JB, PMOD 2 -> JC, PMOD 3 -> JD, PMOD 4 -> JE\n",
    "\n",
    "pmod_tmp2 = PMOD_TMP2(1)\n",
    "\n",
    "# read current temperature value and print it\n",
    "value = pmod_tmp2.read()\n",
    "print(\"Light value: \" + str(value))\n",
    "\n",
    "# set logging interval\n",
    "pmod_tmp2.set_log_interval_ms(50)\n",
    "\n",
    "# start logging\n",
    "pmod_tmp2.start_log()\n",
    "\n",
    "# wait for 3 seconds...\n",
    "time.sleep(3)\n",
    "\n",
    "# get and stop logging\n",
    "values = pmod_tmp2.get_log()\n",
    "print(\"Light values: \" + str(values))\n",
    "\n",
    "# draw graph\n",
    "plt.plot(range(len(values)), values, 'r')\n",
    "plt.title('Temperature [C]')\n",
    "plt.show()"
   ]
  },
  {
   "cell_type": "markdown",
   "metadata": {},
   "source": [
    "### Grove Color Sensor\n",
    "\n",
    "[Sensor documentation](http://www.seeedstudio.com/wiki/Grove_-_Finger-clip_Heart_Rate_Sensor)\n",
    "<br/>\n",
    "Sensor connection via StickIt:\n",
    "<img src=\"img/color.jpg\" style=\"width:400px\"/>\n",
    "\n",
    "<br/>\n",
    "Sensor connection via cables (4 cables needed):\n",
    "<img src=\"img/color-cables.jpg\" style=\"width:400px\"/>\n",
    "\n",
    "The driver for this sensor might not be present on your board.\n",
    "In order to install the driver follows these steps:\n",
    "* Download the extra drivers archive by [clicking here](http://xph.necst.it/2016/hardware/extra-drivers.tar)\n",
    "* Access the board xpp disk from your system\n",
    "* Copy the archive directly within the xpp drive (not within a subfolder)\n",
    "* Execute the following code from Jupyter (the Jupyter of your board... NOT your local Jupyter!)"
   ]
  },
  {
   "cell_type": "code",
   "execution_count": null,
   "metadata": {
    "collapsed": true
   },
   "outputs": [],
   "source": [
    "!cd /home/xpp && tar -xvf extra-drivers.tar && cd drivers_archive && ./install.sh"
   ]
  },
  {
   "cell_type": "markdown",
   "metadata": {},
   "source": [
    "* Close and re-open Jupyter\n",
    "\n",
    "Once the driver has been installed, test the sensor with the following code.\n"
   ]
  },
  {
   "cell_type": "code",
   "execution_count": 32,
   "metadata": {
    "collapsed": false
   },
   "outputs": [
    {
     "name": "stdout",
     "output_type": "stream",
     "text": [
      "Red: 1298\n",
      "Green: 945\n",
      "Blue: 495\n",
      "Clear: 2643\n",
      "Color values: [(1307, 950, 496, 2653), (1305, 937, 501, 2643), (1269, 928, 499, 2666), (1255, 922, 490, 2637), (1247, 925, 486, 2619), (1264, 931, 482, 2564), (1271, 919, 485, 2572), (1263, 913, 489, 2603), (1237, 907, 489, 2614), (1237, 916, 486, 2620), (1255, 920, 482, 2579), (1259, 928, 482, 2576), (1279, 923, 488, 2597), (1266, 918, 497, 2649), (1255, 923, 494, 2656), (1251, 926, 491, 2610), (1276, 938, 491, 2640), (1315, 943, 500, 2664), (1310, 951, 510, 2707), (1311, 944, 511, 2733), (1290, 947, 505, 2720), (1307, 956, 503, 2719), (1338, 974, 512, 2732), (1360, 972, 514, 2759), (1363, 967, 527, 2798), (1320, 971, 509, 2690), (1125, 918, 455, 2389), (815, 969, 392, 2064), (641, 1034, 374, 1994), (629, 1040, 382, 2051), (642, 1070, 390, 2116), (631, 1079, 390, 2115), (634, 1089, 389, 2114), (651, 1107, 393, 2105), (659, 1118, 396, 2133), (657, 1107, 398, 2127), (642, 1098, 398, 2152), (641, 1099, 394, 2133), (638, 1102, 391, 2098), (652, 1112, 394, 2111), (654, 1104, 395, 2102), (637, 1089, 394, 2119), (639, 1086, 397, 2139), (646, 1113, 400, 2183), (663, 1145, 404, 2170), (671, 1147, 404, 2156), (664, 1123, 401, 2169), (655, 1113, 405, 2181), (648, 1125, 402, 2192), (652, 1134, 401, 2166), (656, 1138, 399, 2145), (665, 1128, 402, 2150), (657, 1120, 404, 2180), (660, 1124, 405, 2210), (658, 1144, 408, 2226), (667, 1161, 408, 2217), (685, 1171, 413, 2229), (689, 1180, 420, 2256), (679, 1167, 415, 2219), (649, 1134, 398, 2141), (634, 1075, 384, 2049), (621, 1045, 406, 2015), (620, 1000, 510, 1998), (509, 894, 631, 2044), (513, 944, 700, 2282), (548, 1037, 718, 2245), (485, 925, 597, 1894), (458, 840, 544, 1756), (439, 783, 514, 1688), (432, 763, 511, 1707), (430, 767, 517, 1723), (430, 776, 512, 1724), (434, 784, 517, 1723), (444, 793, 530, 1759), (456, 806, 555, 1813), (454, 821, 565, 1854), (461, 832, 572, 1877), (460, 839, 570, 1872), (466, 845, 573, 1871), (473, 849, 584, 1899), (476, 860, 597, 1918), (467, 849, 586, 1898), (462, 847, 580, 1891), (465, 846, 578, 1885), (473, 861, 588, 1905), (477, 861, 589, 1905), (472, 855, 599, 1934), (474, 868, 608, 1970), (478, 880, 612, 1962), (476, 878, 593, 1905), (470, 854, 574, 1853), (463, 839, 577, 1863), (468, 840, 593, 1919), (476, 867, 615, 1999), (490, 900, 633, 2035), (495, 918, 640, 2042), (506, 924, 654, 2075), (509, 930, 666, 2099)]\n"
     ]
    },
    {
     "data": {
      "image/png": "[encoded data removed]",
      "text/plain": [
       "<matplotlib.figure.Figure at 0x30e1adf0>"
      ]
     },
     "metadata": {},
     "output_type": "display_data"
    }
   ],
   "source": [
    "%matplotlib inline\n",
    "from pynq.pmods import Grove_Color\n",
    "import time\n",
    "import matplotlib.pyplot as plt\n",
    "\n",
    "# initialize Color sensor on PMOD 1 (JB) and grove id 4 (GR4).\n",
    "# PMOD mapping is: PMOD 1 -> JB, PMOD 2 -> JC, PMOD 3 -> JD, PMOD 4 -> JE\n",
    "# NOTE: only GR4 and GR3 can be used for the Color sensor\n",
    "\n",
    "grove_color = Grove_Color(1, 1)\n",
    "\n",
    "# read current color values\n",
    "value = grove_color.read()\n",
    "print(\"Red: \" + str(value[0]))\n",
    "print(\"Green: \" + str(value[1]))\n",
    "print(\"Blue: \" + str(value[2]))\n",
    "print(\"Clear: \" + str(value[3]))\n",
    "\n",
    "# start logging a with log interval of 100 ms\n",
    "# this sensor does not support logging with a time period smaller than 100ms\n",
    "grove_color.start_log(100)\n",
    "\n",
    "# wait for 5 seconds...\n",
    "time.sleep(5)\n",
    "\n",
    "# get and stop logging\n",
    "values = grove_color.get_log()\n",
    "print(\"Color values: \" + str(values))\n",
    "\n",
    "# draw graph showing all the color components\n",
    "plt.plot(range(len(values)), [v[0] for v in values], 'r')\n",
    "plt.plot(range(len(values)), [v[1] for v in values], 'g')\n",
    "plt.plot(range(len(values)), [v[2] for v in values], 'b')\n",
    "plt.plot(range(len(values)), [v[3] for v in values], 'k')\n",
    "plt.title('RGB color')\n",
    "plt.show()\n"
   ]
  },
  {
   "cell_type": "markdown",
   "metadata": {
    "collapsed": true
   },
   "source": [
    "### Grove Finger Clip Heart Rate Sensor\n",
    "\n",
    "[Sensor documentation](http://www.seeedstudio.com/wiki/Grove_-_Finger-clip_Heart_Rate_Sensor)\n",
    "<br/>\n",
    "Sensor connection via StickIt:\n",
    "<img src=\"img/finger-clip-hr.jpg\" style=\"width:400px\"/>\n",
    "\n",
    "<br/>\n",
    "Sensor connection via cables (4 cables needed):\n",
    "<img src=\"img/finger-clip-hr-cables.jpg\" style=\"width:400px\"/>\n",
    "\n",
    "The driver for this sensor might not be present on your board.\n",
    "In order to install the driver follows these steps:\n",
    "* Download the extra drivers archive by [clicking here](http://xph.necst.it/2016/hardware/extra-drivers.tar)\n",
    "* Access the board xpp disk from your system\n",
    "* Copy the archive directly within the xpp drive (not within a subfolder)\n",
    "* Execute the following code from Jupyter (the Jupyter of your board... NOT your local Jupyter!)"
   ]
  },
  {
   "cell_type": "code",
   "execution_count": null,
   "metadata": {
    "collapsed": true
   },
   "outputs": [],
   "source": [
    "!cd /home/xpp && tar -xvf extra-drivers.tar && cd drivers_archive && ./install.sh"
   ]
  },
  {
   "cell_type": "markdown",
   "metadata": {},
   "source": [
    "* Close and re-open Jupyter\n",
    "\n",
    "Once the driver has been installed, test the sensor with the following code.\n",
    "Notice that in order to obtain valid heart rates the finger should be placed on the sensor for at least 30 seconds.\n"
   ]
  },
  {
   "cell_type": "code",
   "execution_count": 49,
   "metadata": {
    "collapsed": false
   },
   "outputs": [
    {
     "name": "stdout",
     "output_type": "stream",
     "text": [
      "53 heart beats per minute\n"
     ]
    }
   ],
   "source": [
    "%matplotlib inline\n",
    "from pynq.pmods import Grove_FingerHR\n",
    "import time\n",
    "import matplotlib.pyplot as plt\n",
    "from IPython import display\n",
    "\n",
    "# initialize finger clip heart rate sensor on PMOD 1 (JB) and grove id 4 (GR4).\n",
    "# PMOD mapping is: PMOD 1 -> JB, PMOD 2 -> JC, PMOD 3 -> JD, PMOD 4 -> JE\n",
    "\n",
    "fingerHR = Grove_FingerHR(1, 4)\n",
    "\n",
    "# NOTE:\n",
    "# if you need to perform asynchronous logging use:\n",
    "# - fingerHR.start_log(ms) - where ms is the logging interval in ms\n",
    "# - fingerHR.get_log() - to get the result and stop logging\n",
    "\n",
    "# read heart rate\n",
    "while(True):\n",
    "    try:\n",
    "        value = fingerHR.read()\n",
    "        display.clear_output(wait=True)\n",
    "        print(str(value) + \" heart beats per minute\")\n",
    "        time.sleep(0.5)\n",
    "    except KeyboardInterrupt:\n",
    "        # exit without showing errors if the stop button in Jupyter is pressed\n",
    "        break"
   ]
  },
  {
   "cell_type": "markdown",
   "metadata": {},
   "source": [
    "### Grove Haptic Motor\n",
    "\n",
    "[Device documentation](http://www.seeedstudio.com/wiki/Grove_-_Haptic_Motor)\n",
    "<br/>\n",
    "Device connection via StickIt:\n",
    "<img src=\"img/haptic-motor.jpg\" style=\"width:400px\"/>\n",
    "\n",
    "<br/>\n",
    "Device connection via cables (4 cables needed):\n",
    "<img src=\"img/haptic-motor-cables.jpg\" style=\"width:400px\"/>\n",
    "\n",
    "The driver for this device might not be present on your board.\n",
    "In order to install the driver follows these steps:\n",
    "* Download the extra drivers archive by [clicking here](http://xph.necst.it/2016/hardware/extra-drivers.tar)\n",
    "* Access the board xpp disk from your system\n",
    "* Copy the archive directly within the xpp drive (not within a subfolder)\n",
    "* Execute the following code from Jupyter (the Jupyter of your board... NOT your local Jupyter!)"
   ]
  },
  {
   "cell_type": "code",
   "execution_count": null,
   "metadata": {
    "collapsed": true
   },
   "outputs": [],
   "source": [
    "!cd /home/xpp && tar -xvf extra-drivers.tar && cd drivers_archive && ./install.sh"
   ]
  },
  {
   "cell_type": "markdown",
   "metadata": {},
   "source": [
    "* Close and re-open Jupyter\n",
    "\n",
    "Once the driver has been installed, test the sensor with the following code.\n"
   ]
  },
  {
   "cell_type": "code",
   "execution_count": 9,
   "metadata": {
    "collapsed": false
   },
   "outputs": [
    {
     "name": "stdout",
     "output_type": "stream",
     "text": [
      "motor playing...\n",
      "motor playing...\n",
      "motor playing...\n",
      "motor playing...\n",
      "motor playing...\n",
      "motor playing...\n",
      "motor playing...\n",
      "motor playing...\n",
      "motor playing...\n",
      "motor playing...\n",
      "motor playing...\n",
      "motor playing...\n",
      "motor playing...\n",
      "motor playing...\n",
      "sequence completed!\n"
     ]
    }
   ],
   "source": [
    "from pynq.pmods import Grove_Haptic_Motor\n",
    "import time\n",
    "from IPython import display\n",
    "\n",
    "# initialize haptic motor on PMOD 1 (JB) and grove id 4 (GR4).\n",
    "# PMOD mapping is: PMOD 1 -> JB, PMOD 2 -> JC, PMOD 3 -> JD, PMOD 4 -> JE\n",
    "\n",
    "hapticMotor = Grove_Haptic_Motor(1, 4)\n",
    "\n",
    "# play vibration effect 7\n",
    "hapticMotor.play(7)\n",
    "\n",
    "# sleep for a second\n",
    "time.sleep(1)\n",
    "\n",
    "# play the sequence: effect 70, pause 1000 (|-100|*10), effect 40 and effect 23\n",
    "hapticMotor.play_sequence([70,-100,40,10])\n",
    "\n",
    "# monitor the status of the haptic motor\n",
    "while(hapticMotor.is_playing()):\n",
    "    print(\"motor playing...\")\n",
    "    time.sleep(0.2)\n",
    "print(\"sequence completed!\")"
   ]
  },
  {
   "cell_type": "markdown",
   "metadata": {},
   "source": [
    "### Grove Ear Clip Heart Rate Sensor\n",
    "[Sensor documentation](http://www.seeedstudio.com/wiki/Grove_-_Ear-clip_Heart_Rate_Sensor)\n",
    "<br/>\n",
    "Sensor connection via StickIt:\n",
    "<img src=\"img/ear-clip.jpg\" style=\"width:400px\"/>\n",
    "\n",
    "<br/>\n",
    "Sensor connection via cables (3 cables needed):\n",
    "<img src=\"img/ear-clip-cables.jpg\" style=\"width:400px\"/>\n",
    "\n",
    "The driver for this device might not be present on your board.\n",
    "In order to install the driver follows these steps:\n",
    "* Download the extra drivers archive by [clicking here](http://xph.necst.it/2016/hardware/extra-drivers.tar)\n",
    "* Access the board xpp disk from your system\n",
    "* Copy the archive directly within the xpp drive (not within a subfolder)\n",
    "* Execute the following code from Jupyter (the Jupyter of your board... NOT your local Jupyter!)"
   ]
  },
  {
   "cell_type": "code",
   "execution_count": null,
   "metadata": {
    "collapsed": true
   },
   "outputs": [],
   "source": [
    "!cd /home/xpp && tar -xvf extra-drivers.tar && cd drivers_archive && ./install.sh"
   ]
  },
  {
   "cell_type": "markdown",
   "metadata": {},
   "source": [
    "* Close and re-open Jupyter\n",
    "\n",
    "Once the driver has been installed, test the sensor with the following code."
   ]
  },
  {
   "cell_type": "code",
   "execution_count": 5,
   "metadata": {
    "collapsed": false
   },
   "outputs": [
    {
     "name": "stdout",
     "output_type": "stream",
     "text": [
      "Number of heart beats: 142\n",
      "Heart beat frequency: 59.23 beats per minute\n"
     ]
    }
   ],
   "source": [
    "%matplotlib inline\n",
    "from pynq.pmods import Grove_EarHR\n",
    "from pynq.board import LED\n",
    "import time\n",
    "import matplotlib.pyplot as plt\n",
    "from IPython import display\n",
    "\n",
    "# initialize ear clip heart rate sensor on PMOD 1 (JB) and grove id 4 (GR4).\n",
    "# PMOD mapping is: PMOD 1 -> JB, PMOD 2 -> JC, PMOD 3 -> JD, PMOD 4 -> JE\n",
    "\n",
    "earHR = Grove_EarHR(1, 4)\n",
    "\n",
    "# set up led for showing heart beats\n",
    "led = LED(0)\n",
    "led.off()\n",
    "\n",
    "# read initial number of heart beats\n",
    "beats, deltaT = earHR.read_raw()\n",
    "oldBeats = beats\n",
    "\n",
    "while(True):\n",
    "    try:\n",
    "        beats, deltaT = earHR.read_raw()\n",
    "        if(oldBeats == beats):\n",
    "            # same number of heart beats as previous iteration\n",
    "            led.off()\n",
    "        else:\n",
    "            # new heart beat detected!\n",
    "            led.on()\n",
    "        \n",
    "        oldBeats = beats\n",
    "        rate = earHR.read()\n",
    "        \n",
    "        display.clear_output(wait=True)\n",
    "        print(\"Number of heart beats: \" + str(beats))\n",
    "        print(\"Heart beat frequency: \" + str(round(rate,2)) + \" beats per minute\")\n",
    "        \n",
    "        time.sleep(0.1)\n",
    "    except KeyboardInterrupt:\n",
    "        # exit without showing errors if the stop button in Jupyter is pressed\n",
    "        break\n"
   ]
  },
  {
   "cell_type": "markdown",
   "metadata": {},
   "source": [
    "### Grove Temperature & Humidity (Mini)\t\n",
    "\n",
    "[Sensor documentation](http://www.seeedstudio.com/wiki/Grove_-_Finger-clip_Heart_Rate_Sensor)\n",
    "<br/>\n",
    "Sensor connection via StickIt:\n",
    "<img src=\"img/th-mini.jpg\" style=\"width:400px\"/>\n",
    "\n",
    "<br/>\n",
    "Sensor connection via cables (4 cables needed):\n",
    "<img src=\"img/th-mini-cables.jpg\" style=\"width:400px\"/>\n",
    "\n",
    "The driver for this sensor might not be present on your board.\n",
    "In order to install the driver follows these steps:\n",
    "* Download the extra drivers archive by [clicking here](http://xph.necst.it/2016/hardware/extra-drivers.tar)\n",
    "* Access the board xpp disk from your system\n",
    "* Copy the archive directly within the xpp drive (not within a subfolder)\n",
    "* Execute the following code from Jupyter (the Jupyter of your board... NOT your local Jupyter!)"
   ]
  },
  {
   "cell_type": "code",
   "execution_count": null,
   "metadata": {
    "collapsed": true
   },
   "outputs": [],
   "source": [
    "!cd /home/xpp && tar -xvf extra-drivers.tar && cd drivers_archive && ./install.sh"
   ]
  },
  {
   "cell_type": "markdown",
   "metadata": {},
   "source": [
    "* Close and re-open Jupyter\n",
    "\n",
    "Once the driver has been installed, test the sensor with the following code."
   ]
  },
  {
   "cell_type": "code",
   "execution_count": 14,
   "metadata": {
    "collapsed": false
   },
   "outputs": [
    {
     "name": "stdout",
     "output_type": "stream",
     "text": [
      "Temperature: 25.28125\n",
      "Humidity: 25.28125\n"
     ]
    },
    {
     "data": {
      "image/png": "[encoded data removed]",
      "text/plain": [
       "<matplotlib.figure.Figure at 0x30e7ecd0>"
      ]
     },
     "metadata": {},
     "output_type": "display_data"
    },
    {
     "data": {
      "image/png": "[encoded data removed]",
      "text/plain": [
       "<matplotlib.figure.Figure at 0x30e86bf0>"
      ]
     },
     "metadata": {},
     "output_type": "display_data"
    }
   ],
   "source": [
    "%matplotlib inline\n",
    "from pynq.pmods import Grove_TH02\n",
    "import time\n",
    "import matplotlib.pyplot as plt\n",
    "\n",
    "# initialize grove TH02 sensor on PMOD 1 (JB) and grove id 4 (GR4).\n",
    "# PMOD mapping is: PMOD 1 -> JB, PMOD 2 -> JC, PMOD 3 -> JD, PMOD 4 -> JE\n",
    "\n",
    "th02 = Grove_TH02(1,4)\n",
    "\n",
    "# read current temperature and humidity values and print them\n",
    "tmp, humi = th02.read()\n",
    "print(\"Temperature: \" + str(tmp))\n",
    "print(\"Humidity: \" + str(tmp))\n",
    "\n",
    "# start logging\n",
    "sampling_rate_ms = 50\n",
    "th02.start_log(sampling_rate_ms)\n",
    "\n",
    "# wait for 3 seconds...\n",
    "time.sleep(3)\n",
    "\n",
    "# get and stop logging\n",
    "values = th02.get_log()\n",
    "\n",
    "# draw graphs\n",
    "tmp_vals = [v[0] for v in values]\n",
    "humi_vals = [v[1] for v in values]\n",
    "\n",
    "plt.plot(range(len(tmp_vals)), tmp_vals, 'r')\n",
    "plt.title('Temperature [C]')\n",
    "plt.show()\n",
    "\n",
    "plt.figure(1)\n",
    "plt.plot(range(len(tmp_vals)), humi_vals, 'b')\n",
    "plt.title('Humidity [%]')\n",
    "plt.show()"
   ]
  },
  {
   "cell_type": "markdown",
   "metadata": {},
   "source": [
    "### Grove Digital Light Sensor\n",
    "\n",
    "[Sensor documentation](http://www.seeedstudio.com/wiki/Grove_-_Digital_Light_Sensor)\n",
    "<br/>\n",
    "Sensor connection via StickIt:\n",
    "<img src=\"img/grove-dlight.jpg\" style=\"width:400px\"/>\n",
    "\n",
    "<br/>\n",
    "Sensor connection via cables (4 cables needed):\n",
    "<img src=\"img/grove-dlight-cables.jpg\" style=\"width:400px\"/>\n",
    "\n",
    "The driver for this sensor might not be present on your board.\n",
    "In order to install the driver follows these steps:\n",
    "* Download the extra drivers archive by [clicking here](http://xph.necst.it/2016/hardware/extra-drivers.tar)\n",
    "* Access the board xpp disk from your system\n",
    "* Copy the archive directly within the xpp drive (not within a subfolder)\n",
    "* Execute the following code from Jupyter (the Jupyter of your board... NOT your local Jupyter!)"
   ]
  },
  {
   "cell_type": "code",
   "execution_count": null,
   "metadata": {
    "collapsed": true
   },
   "outputs": [],
   "source": [
    "!cd /home/xpp && tar -xvf extra-drivers.tar && cd drivers_archive && ./install.sh"
   ]
  },
  {
   "cell_type": "markdown",
   "metadata": {},
   "source": [
    "* Close and re-open Jupyter\n",
    "\n",
    "Once the driver has been installed, test the sensor with the following code."
   ]
  },
  {
   "cell_type": "code",
   "execution_count": 3,
   "metadata": {
    "collapsed": false
   },
   "outputs": [
    {
     "name": "stdout",
     "output_type": "stream",
     "text": [
      "samples: 112\n",
      "sampling time: 4.008211612701416\n",
      "sampling frequency: 27.94263647285711\n",
      "time step: 35.787603684834075\n",
      "[258, 257, 257, 265, 268, 267, 268, 256, 257, 258, 263, 256, 264, 270, 256, 271, 260, 260, 259, 261, 256, 256, 270, 262, 256, 260, 256, 270, 268, 262, 270, 265, 267, 269, 0, 6, 10, 6, 3, 4, 1, 2, 0, 1, 1, 0, 0, 14, 15, 14, 14, 13, 13, 15, 13, 14, 13, 14, 15, 14, 14, 14, 3, 5, 256, 261, 266, 270, 256, 264, 269, 266, 269, 257, 257, 260, 263, 258, 264, 256, 256, 256, 261, 260, 260, 261, 257, 256, 270, 263, 256, 263, 259, 257, 256, 267, 266, 269, 266, 257, 257, 257, 265, 269, 266, 268, 256, 256, 259, 262, 257, 263]\n"
     ]
    },
    {
     "data": {
      "image/png": "[encoded data removed]",
      "text/plain": [
       "<matplotlib.figure.Figure at 0x30fdda30>"
      ]
     },
     "metadata": {},
     "output_type": "display_data"
    }
   ],
   "source": [
    "%matplotlib inline\n",
    "from pynq.pmods import Grove_DLight\n",
    "import time\n",
    "import matplotlib.pyplot as plt\n",
    "import numpy as np\n",
    "\n",
    "# initialize grove digital light sensor on PMOD 1 (JB) and grove id 4 (GR4).\n",
    "# PMOD mapping is: PMOD 1 -> JB, PMOD 2 -> JC, PMOD 3 -> JD, PMOD 4 -> JE\n",
    "\n",
    "dl = Grove_DLight(1,4)\n",
    "\n",
    "# perform logging directly from Python using a while loop\n",
    "values = []\n",
    "sampling_time = 4\n",
    "start = time.time();\n",
    "end = start\n",
    "\n",
    "while(end - start < sampling_time):\n",
    "    value = dl.read_raw_light()\n",
    "    values.append(value[0])\n",
    "    end = time.time()\n",
    "\n",
    "num_samples = len(values)\n",
    "sampling_time = end - start\n",
    "sampling_freq = num_samples / sampling_time\n",
    "time_step_ms = (1 / sampling_freq) * 1000\n",
    "\n",
    "print(\"samples: \" + str(num_samples))\n",
    "print(\"sampling time: \" + str(sampling_time))\n",
    "print(\"sampling frequency: \" + str(sampling_freq))\n",
    "print(\"time step: \" + str(time_step_ms))\n",
    "\n",
    "# draw graph\n",
    "time = np.arange(num_samples) * time_step_ms\n",
    "print(values)\n",
    "plt.plot(time, values, 'r')\n",
    "plt.ylabel(\"light value [lx]\")\n",
    "plt.xlabel(\"time [ms]\")\n",
    "plt.show()"
   ]
  }
 ],
 "metadata": {
  "kernelspec": {
   "display_name": "Python 3",
   "language": "python",
   "name": "python3"
  },
  "language_info": {
   "codemirror_mode": {
    "name": "ipython",
    "version": 3
   },
   "file_extension": ".py",
   "mimetype": "text/x-python",
   "name": "python",
   "nbconvert_exporter": "python",
   "pygments_lexer": "ipython3",
   "version": "3.4.3+"
  }
 },
 "nbformat": 4,
 "nbformat_minor": 0
}
