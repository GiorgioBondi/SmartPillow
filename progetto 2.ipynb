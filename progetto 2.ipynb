{
 "cells": [
  {
   "cell_type": "code",
   "execution_count": 25,
   "metadata": {
    "collapsed": true
   },
   "outputs": [],
   "source": [
    "%matplotlib inline\n",
    "\n",
    "from IPython import display\n",
    "from ipywidgets import widgets\n",
    "import numpy as np\n",
    "import matplotlib.pyplot as plt\n",
    "import time\n",
    "from pynq.pmods import Grove_FingerHR \n",
    "\n",
    "display.display(widgets.HTML(\"Inserisci la tua età\"))\n",
    "text = widgets.Textarea()\n",
    "display.display(text)\n",
    "\n",
    "\n",
    "display.display(widgets.HTML(\"Seleziona il sesso\"))\n",
    "buttonGender = widgets.RadioButtons(options = [\"maschio\", \"femmina\"])\n",
    "display.display(buttonGender)\n",
    "\n",
    "\n",
    "\n",
    "display.display(widgets.HTML(\"Sei una persona atletica?\"))\n",
    "buttonAthl = widgets.RadioButtons (options = [\"sì\", \"no\"])\n",
    "display.display(buttonAthl)\n",
    "\n"
   ]
  },
  {
   "cell_type": "code",
   "execution_count": 26,
   "metadata": {
    "collapsed": false
   },
   "outputs": [
    {
     "name": "stdout",
     "output_type": "stream",
     "text": [
      "48 heart beats per minute\n",
      "Continua a misurare\n"
     ]
    }
   ],
   "source": [
    "l = list ()\n",
    "def on_button_clicked(b):\n",
    "    global freq\n",
    "\n",
    "    # initialize finger clip heart rate sensor on PMOD 1 (JB) and grove id 4 (GR4).\n",
    "    # PMOD mapping is: PMOD 1 -> JB, PMOD 2 -> JC, PMOD 3 -> JD, PMOD 4 -> JE\n",
    "\n",
    "    fingerHR = Grove_FingerHR(1, 4)\n",
    "\n",
    "    # NOTE:\n",
    "# if you need to perform asynchronous logging use:\n",
    "# - fingerHR.start_log(ms) - where ms is the logging interval in ms\n",
    "# - fingerHR.get_log() - to get the result and stop logging\n",
    "\n",
    "# read heart rate\n",
    "    start=time.time()\n",
    "    while(True):\n",
    "        try:\n",
    "            value = fingerHR.read()\n",
    "            display.clear_output(wait=True)\n",
    "            print(str(value) + \" heart beats per minute\")\n",
    "            if time.time()-start >60:\n",
    "                print(\"Ora puoi fermare la misurazione premendo il tasto stop\")\n",
    "            else:\n",
    "                print(\"Continua a misurare\")\n",
    "            time.sleep(0.5)\n",
    "        except KeyboardInterrupt:\n",
    "        # exit without showing errors if the stop button in Jupyter is pressed\n",
    "            break\n",
    "            \n",
    "        if (value != 0 ) and (value < 250):\n",
    "            l.append(value)\n",
    "        \n",
    "        \n",
    "      \n",
    "        \n",
    " \n",
    "    \n",
    "    \n",
    "    \n",
    "button = widgets.Button(description = \"Inizia la misurazione! \")\n",
    "display.display(button)\n",
    "button.on_click(on_button_clicked)    \n",
    "    \n",
    "\n",
    "\n",
    "\n"
   ]
  },
  {
   "cell_type": "code",
   "execution_count": 29,
   "metadata": {
    "collapsed": false
   },
   "outputs": [
    {
     "name": "stdout",
     "output_type": "stream",
     "text": [
      "[44, 44, 44, 44, 44, 44, 44, 45, 45, 45, 45, 46, 46, 46, 46, 46, 47, 47]\n",
      "La tua frequenza è : 45\n",
      "La tua frequenza cardiaca massima è: 186\n",
      "Attenzione! Frequenza cardiaca troppo bassa\n",
      "Sei in una condizione di sforzo minimo\n"
     ]
    },
    {
     "ename": "AttributeError",
     "evalue": "'numpy.ndarray' object has no attribute 'append'",
     "output_type": "error",
     "traceback": [
      "\u001b[1;31m---------------------------------------------------------------------------\u001b[0m",
      "\u001b[1;31mAttributeError\u001b[0m                            Traceback (most recent call last)",
      "\u001b[1;32m<ipython-input-29-0feab40d27d7>\u001b[0m in \u001b[0;36m<module>\u001b[1;34m()\u001b[0m\n\u001b[0;32m     68\u001b[0m \u001b[1;33m\u001b[0m\u001b[0m\n\u001b[0;32m     69\u001b[0m \u001b[0mtot\u001b[0m \u001b[1;33m=\u001b[0m \u001b[0mnp\u001b[0m\u001b[1;33m.\u001b[0m\u001b[0mload\u001b[0m\u001b[1;33m(\u001b[0m\u001b[1;34m\"Misurazioni.npy\"\u001b[0m\u001b[1;33m)\u001b[0m\u001b[1;33m\u001b[0m\u001b[0m\n\u001b[1;32m---> 70\u001b[1;33m \u001b[0mmisurazioni\u001b[0m \u001b[1;33m=\u001b[0m \u001b[0mtot\u001b[0m\u001b[1;33m.\u001b[0m\u001b[0mappend\u001b[0m\u001b[1;33m(\u001b[0m\u001b[0mfreq\u001b[0m\u001b[1;33m)\u001b[0m\u001b[1;33m\u001b[0m\u001b[0m\n\u001b[0m\u001b[0;32m     71\u001b[0m \u001b[0mnp\u001b[0m\u001b[1;33m.\u001b[0m\u001b[0msave\u001b[0m\u001b[1;33m(\u001b[0m\u001b[1;34m\"Misurazioni\"\u001b[0m\u001b[1;33m,\u001b[0m \u001b[0mmisurazioni\u001b[0m\u001b[1;33m)\u001b[0m\u001b[1;33m\u001b[0m\u001b[0m\n\u001b[0;32m     72\u001b[0m \u001b[1;33m\u001b[0m\u001b[0m\n",
      "\u001b[1;31mAttributeError\u001b[0m: 'numpy.ndarray' object has no attribute 'append'"
     ]
    },
    {
     "data": {
      "image/png": "[encoded data removed]",
      "text/plain": [
       "<matplotlib.figure.Figure at 0x30f01a50>"
      ]
     },
     "metadata": {},
     "output_type": "display_data"
    }
   ],
   "source": [
    "def MEDIA (lista):\n",
    "    somma = 0\n",
    "    \n",
    "    for i in lista:\n",
    "        somma+= i\n",
    "    media = somma / len(lista)\n",
    "    return media\n",
    "\n",
    "minimo = int(min(l))\n",
    "massimo=int(max(l))\n",
    "print(l)\n",
    "xVal = np.arange(0, len(l), 1)\n",
    "yVal=l\n",
    "plt.plot(xVal, yVal)\n",
    "plt.xlabel = (\"Numero misurazioni\")\n",
    "plt.axis([ 0, (len(l) + 10),minimo - 5, massimo + 5])\n",
    "        #plt.ylabel = (\"Frequenza cardiaca [bpm]\")\n",
    "plt.grid(True)\n",
    "plt.show\n",
    "\n",
    "freq = int(MEDIA(l))\n",
    "print(\"La tua frequenza è : \"  + str (freq)) \n",
    "    \n",
    "\n",
    "\n",
    "def FCMAX (s, a):\n",
    "    if s == \"femmina\":\n",
    "        fm = 226 - a\n",
    "    else:\n",
    "        fm = 220 - a\n",
    "    print(\"La tua frequenza cardiaca massima è: \" + str(fm))\n",
    "    return fm\n",
    "\n",
    "age = int(text.value)\n",
    "gender = buttonGender.value\n",
    "athl = buttonAthl.value\n",
    "\n",
    "FCmax = FCMAX(gender, age)\n",
    "\n",
    "\n",
    "\n",
    "a = int(FCmax)*0.9\n",
    "b = int(FCmax)*1.1\n",
    "if freq < b and freq > a:\n",
    "    print(\"Attenzione! Stai per superare la tua frequenza massima\")\n",
    "if freq < a and freq> 50:\n",
    "    print(\"Valore nella norma\")\n",
    "if freq < 50:\n",
    "    print(\"Attenzione! Frequenza cardiaca troppo bassa\")\n",
    "if freq > b:\n",
    "    print(\"Attenzione! Frequenza cardiaca troppo alta\")\n",
    "    \n",
    "    \n",
    "    \n",
    "    \n",
    "#facciamo un bottone per far scegliere al paziente se vuole verificare la sua soglia di sforzo \n",
    "    \n",
    "if freq < 0.60*FCmax:\n",
    "    print(\"Sei in una condizione di sforzo minimo\")\n",
    "if (freq < 0.65*FCmax and freq > 0.6*FCmax) or (athl == \"sì\" and freq > 0.6*FCmax and freq < 0.8*FCmax):\n",
    "    print(\"Sei in una condizione di sforzo aerobico\")\n",
    "if (athl == \"sì\" and freq > 0.8*FCmax) or (athl==\"no\" and freq >0.65*FCmax):\n",
    "    print(\"Sei in una condizione di sforzo anaerobico\")\n",
    "    \n",
    "    \n",
    "    \n",
    "misurazioni = list()\n",
    "\n",
    "tot = np.load(\"Misurazioni.npy\")\n",
    "misurazioni = tot.append(freq)\n",
    "np.save(\"Misurazioni\", misurazioni)\n",
    "\n",
    "print(tot)\n",
    "print(misurazioni)\n",
    "\n"
   ]
  },
  {
   "cell_type": "code",
   "execution_count": null,
   "metadata": {
    "collapsed": true
   },
   "outputs": [],
   "source": []
  }
 ],
 "metadata": {
  "kernelspec": {
   "display_name": "Python 3",
   "language": "python",
   "name": "python3"
  },
  "language_info": {
   "codemirror_mode": {
    "name": "ipython",
    "version": 3
   },
   "file_extension": ".py",
   "mimetype": "text/x-python",
   "name": "python",
   "nbconvert_exporter": "python",
   "pygments_lexer": "ipython3",
   "version": "3.4.3+"
  }
 },
 "nbformat": 4,
 "nbformat_minor": 0
}
