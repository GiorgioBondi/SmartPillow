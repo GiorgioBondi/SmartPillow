{
 "cells": [
  {
   "cell_type": "code",
   "execution_count": null,
   "metadata": {
    "collapsed": false
   },
   "outputs": [],
   "source": [
    "%matplotlib inline\n",
    "from pynq.pmods import PMOD_ADC\n",
    "import time\n",
    "import matplotlib.pyplot as plt\n",
    "\n",
    "# initialize ADC on PMOD 1 (JB).\n",
    "# The ADC DA4 has 4 input channels at 12 bit resolution, however only the first 3: \n",
    "# V1, V2 and V3 (form 0 to 2) can be used.\n",
    "# PMOD mapping is: PMOD 1 -> JB, PMOD 2 -> JC, PMOD 3 -> JD, PMOD 4 -> JE\n",
    "pmod_adc = PMOD_ADC(1)\n",
    "\n",
    "# read the tension value for V1 (V1 -> 0) and print it\n",
    "#value = pmod_adc.read(0)\n",
    "#print(\"Current voltage: \" + str(value) + \"V\")\n",
    "\n",
    "# start logging on V3 (V3 -> 2) with log interval of 1 ms\n",
    "# NOTE: the current driver allows to log only one input at a time,\n",
    "# to get data from multiple inputs at the same time you need to get them manually within a loop\n",
    "#2 è IL CANALE DI LETTURA , 10 INTERVALLO TRA OGNI CAMPIONE(ms)\n",
    "pmod_adc.start_log(2, 1)\n",
    "\n",
    "# TEMPO DI ACQUISIZIONE\n",
    "\n",
    "time.sleep(3)\n",
    "\n",
    "# get and stop logging\n",
    "values = pmod_adc.get_log()\n",
    "print(\"Voltage values: \" + str(values))\n",
    "\n",
    "# draw graph\n",
    "plt.plot(range(len(values)), values, 'r')\n",
    "plt.title('ADC data')\n",
    "plt.show()\n"
   ]
  },
  {
   "cell_type": "code",
   "execution_count": null,
   "metadata": {
    "collapsed": false
   },
   "outputs": [],
   "source": [
    "import numpy as np\n",
    "np.savetxt(\"RussataDoppia2.npy\",values)"
   ]
  },
  {
   "cell_type": "code",
   "execution_count": 8,
   "metadata": {
    "collapsed": false
   },
   "outputs": [
    {
     "name": "stdout",
     "output_type": "stream",
     "text": [
      "Hai russato al tempo 513\n",
      "Hai russato al tempo 2373\n"
     ]
    },
    {
     "name": "stderr",
     "output_type": "stream",
     "text": [
      "C:\\Users\\giorg\\Anaconda3\\lib\\site-packages\\ipykernel\\__main__.py:11: FutureWarning: pd.rolling_mean is deprecated for ndarrays and will be removed in a future version\n"
     ]
    },
    {
     "data": {
      "image/png": "[encoded data removed]",
      "text/plain": [
       "<matplotlib.figure.Figure at 0x293cb2dabe0>"
      ]
     },
     "metadata": {},
     "output_type": "display_data"
    }
   ],
   "source": [
    "%matplotlib inline\n",
    "import numpy as np\n",
    "import pandas as pd\n",
    "import matplotlib.pyplot as plt\n",
    "russ1=np.loadtxt(\"RussataDoppia.npy\")\n",
    "#russ2=np.loadtxt(\"Russata2.npy\")\n",
    "#russ3=np.loadtxt(\"Russata3.npy\")\n",
    "#batt=np.loadtxt(\"Battito.npy\")\n",
    "#sil=np.loadtxt(\"Silenzio.npy\")\n",
    "#multipla=np.loadtxt(\"RussataDoppia2.npy\")\n",
    "mediaruss1=pd.rolling_mean(russ1,50)\n",
    "#mediaruss2=pd.rolling_mean(russ2,50)\n",
    "#mediaruss3=pd.rolling_mean(russ3,50)\n",
    "#mediabatt=pd.rolling_mean(batt,50)\n",
    "#mediasil=pd.rolling_mean(sil,50)\n",
    "#mediadoppia=pd.rolling_mean(multipla,50)\n",
    "\n",
    "t=np.arange(0,len(russ1)*3,3)\n",
    "plt.plot(t,mediaruss1,color='g')\n",
    "for i in range(len(mediaruss1)):\n",
    "    if mediaruss1[i]<0.15:\n",
    "        if mediaruss1[i-1]>=0.15:\n",
    "            print(\"Hai russato al tempo \"+str(i*3))\n",
    "        continue\n",
    "#plt.show()\n",
    "#plt.plot(t,mediaruss2,color='r')\n",
    "#plt.show()\n",
    "#plt.plot(t,mediaruss3,color='b')\n",
    "#plt.show()\n",
    "#plt.plot(t,mediabatt,color='black')\n",
    "#plt.show()\n",
    "#plt.plot(t,mediasil,color='y')\n",
    "#plt.plot(t,mediadoppia)\n",
    "plt.show()"
   ]
  },
  {
   "cell_type": "code",
   "execution_count": null,
   "metadata": {
    "collapsed": false
   },
   "outputs": [],
   "source": [
    "#cross-correlazione tra finestra con zero-padding e segnale \n",
    "%matplotlib inline\n",
    "import numpy as np\n",
    "import matplotlib.pyplot as plt\n",
    "from numpy.fft import rfft, irfft\n",
    "\n",
    "def calcoloCCR(data, arrwnd):\n",
    "\n",
    "#le due liste da confrontare devono avere stessa lunghezza\n",
    "\n",
    "    template=arrwnd.tolist()\n",
    "    \n",
    "    #Zero padding\n",
    "    for i in range (len(arrwnd),len(data)):\n",
    "        template.append(0)\n",
    "\n",
    "    # Fast Fourier Transform (FFT)\n",
    "    Data= rfft(data)\n",
    "   \n",
    "    # Inverto il vettore template\n",
    "    tempY = []\n",
    "    while len(template) > 0:\n",
    "        tempY.append(template.pop())\n",
    "    \n",
    "    Y = rfft(tempY)\n",
    "\n",
    "    # Faccio la formula inversa della FFT\n",
    "    CrossCorrelazione = irfft(Data*Y)\n",
    "    print(len(CrossCorrelazione))\n",
    "    \n",
    "    #Normalizzazione\n",
    "    #DataSTD=np.nanstd(data)\n",
    "    #TemSTD=np.nanstd(template)\n",
    "    #print(DataSTD)\n",
    "    #print(TemSTD)\n",
    "    \n",
    "    x=np.arange(len(CrossCorrelazione))\n",
    "    plt.plot(x,CrossCorrelazione)\n",
    "    plt.xlabel(\"Campioni\")\n",
    "    plt.ylabel(\"CrossCorrelazione\")\n",
    "    plt.show()\n"
   ]
  },
  {
   "cell_type": "code",
   "execution_count": null,
   "metadata": {
    "collapsed": false
   },
   "outputs": [],
   "source": [
    "import numpy as np\n",
    "segnale=np.loadtxt(\"RussataDoppia2.npy\")\n",
    "for i in range(len(segnale)):\n",
    "    if segnale[i]<0.15:\n",
    "\n",
    "plt.plot(np.arange(len(segnale)),segnale)"
   ]
  },
  {
   "cell_type": "code",
   "execution_count": null,
   "metadata": {
    "collapsed": false
   },
   "outputs": [],
   "source": [
    "arrwnd=np.loadtxt(\"Template.npy\")\n",
    "plt.plot(np.arange(len(arrwnd)),arrwnd)\n",
    "plt.show()"
   ]
  },
  {
   "cell_type": "code",
   "execution_count": null,
   "metadata": {
    "collapsed": true
   },
   "outputs": [],
   "source": []
  }
 ],
 "metadata": {
  "kernelspec": {
   "display_name": "Python 3",
   "language": "python",
   "name": "python3"
  },
  "language_info": {
   "codemirror_mode": {
    "name": "ipython",
    "version": 3
   },
   "file_extension": ".py",
   "mimetype": "text/x-python",
   "name": "python",
   "nbconvert_exporter": "python",
   "pygments_lexer": "ipython3",
   "version": "3.5.1"
  }
 },
 "nbformat": 4,
 "nbformat_minor": 0
}
