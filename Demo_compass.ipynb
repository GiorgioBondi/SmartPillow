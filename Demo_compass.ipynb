{
 "cells": [
  {
   "cell_type": "code",
   "execution_count": 6,
   "metadata": {
    "collapsed": true
   },
   "outputs": [],
   "source": [
    "from pynq.pl import Overlay\n",
    "Overlay(\"pmod.bit\").download()"
   ]
  },
  {
   "cell_type": "code",
   "execution_count": null,
   "metadata": {
    "collapsed": false
   },
   "outputs": [
    {
     "name": "stdout",
     "output_type": "stream",
     "text": [
      "[-6.45, 4.39, -8.5]\n",
      "-55.7600076454\n"
     ]
    }
   ],
   "source": [
    "%matplotlib inline\n",
    "from pynq.pmods import Grove_IMU\n",
    "from IPython import display\n",
    "import numpy as np\n",
    "import time\n",
    "\n",
    "imu = Grove_IMU(1,4)\n",
    "\n",
    "while(True):\n",
    "    compassData = imu.get_compass()\n",
    "    print(str(compassData))\n",
    "    #calculate compass heading,in degrees, with X and Y data\n",
    "    if(compassData[1]==0):\n",
    "        if(compassData[0]<0):\n",
    "            heading = 180.0\n",
    "        else:\n",
    "            heading = 0.0;\n",
    "    elif(compassData[1]>0):\n",
    "        heading = 90.0 -np.arctan2(compassData[0],compassData[1])*180/np.pi\n",
    "    else:\n",
    "        heading = 270.0 -np.arctan2(compassData[0],compassData[1])*180/np.pi\n",
    "    time.sleep(0.2)\n",
    "    \n",
    "    heading = np.arctan2(compassData[0],compassData[1])*180/np.pi\n",
    "    print(str(heading))\n",
    "    \n",
    "    display.clear_output(wait=True)\n",
    "            "
   ]
  },
  {
   "cell_type": "code",
   "execution_count": 29,
   "metadata": {
    "collapsed": false
   },
   "outputs": [
    {
     "data": {
      "text/plain": [
       "0.0"
      ]
     },
     "execution_count": 29,
     "metadata": {},
     "output_type": "execute_result"
    }
   ],
   "source": [
    "np.arctan2(0,+10)*180 / np.pi"
   ]
  },
  {
   "cell_type": "code",
   "execution_count": null,
   "metadata": {
    "collapsed": true
   },
   "outputs": [],
   "source": []
  },
  {
   "cell_type": "code",
   "execution_count": null,
   "metadata": {
    "collapsed": true
   },
   "outputs": [],
   "source": []
  }
 ],
 "metadata": {
  "kernelspec": {
   "display_name": "Python 3",
   "language": "python",
   "name": "python3"
  },
  "language_info": {
   "codemirror_mode": {
    "name": "ipython",
    "version": 3
   },
   "file_extension": ".py",
   "mimetype": "text/x-python",
   "name": "python",
   "nbconvert_exporter": "python",
   "pygments_lexer": "ipython3",
   "version": "3.4.3+"
  }
 },
 "nbformat": 4,
 "nbformat_minor": 0
}
