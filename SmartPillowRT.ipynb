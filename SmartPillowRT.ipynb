{
 "cells": [
  {
   "cell_type": "code",
   "execution_count": 3,
   "metadata": {
    "collapsed": false
   },
   "outputs": [
    {
     "name": "stdout",
     "output_type": "stream",
     "text": [
      "[0.0781]\n"
     ]
    },
    {
     "data": {
      "image/png": "[encoded data removed]",
      "text/plain": [
       "<matplotlib.figure.Figure at 0x32885390>"
      ]
     },
     "metadata": {},
     "output_type": "display_data"
    }
   ],
   "source": [
    "%matplotlib inline\n",
    "from pynq.pmods import PMOD_ADC\n",
    "from pynq.pmods import Grove_Haptic_Motor\n",
    "import numpy as np\n",
    "import time\n",
    "import matplotlib.pyplot as plt\n",
    "import pandas as pd\n",
    "\n",
    "# initialize ADC on PMOD 1 (JB).\n",
    "# The ADC DA4 has 4 input channels at 12 bit resolution, however only the first 3: \n",
    "# V1, V2 and V3 (form 0 to 2) can be used.\n",
    "# PMOD mapping is: PMOD 1 -> JB, PMOD 2 -> JC, PMOD 3 -> JD, PMOD 4 -> JE\n",
    "pmod_adc = PMOD_ADC(1)\n",
    "\n",
    "hapticMotor = Grove_Haptic_Motor(4, 4)\n",
    "while (True):\n",
    "    try:\n",
    "        pmod_adc.start_log(2, 10)\n",
    "# TEMPO DI ACQUISIZIONE\n",
    "        time.sleep(5)\n",
    "        values = pmod_adc.get_log()\n",
    "        print(values)\n",
    "        if (len(values)>50):\n",
    "            values=np.asarray(values)\n",
    "            print(values)\n",
    "            media=pd.rolling_mean(values,50)\n",
    "            print(media)\n",
    "            russamento=False\n",
    "            for i in range(len(media)):\n",
    "                if media[i]>0.35 and media[i-1]<=0.35: #soglia sperimentale\n",
    "                    print(\"Hai russato al tempo \"+str(i//100)+\" secondi.\")\n",
    "                    russamento=True\n",
    "                continue\n",
    "            if russamento:\n",
    "                hapticMotor.play(6)\n",
    "    except KeyboardInterrupt:\n",
    "    # exit without showing errors if the stop button in Jupyter is pressed\n",
    "        break\n",
    "plt.plot(np.arange(len(values)),values)\n",
    "plt.show()"
   ]
  },
  {
   "cell_type": "code",
   "execution_count": 2,
   "metadata": {
    "collapsed": false
   },
   "outputs": [
    {
     "name": "stdout",
     "output_type": "stream",
     "text": [
      "[0.0293]\n"
     ]
    }
   ],
   "source": [
    "print(values)"
   ]
  },
  {
   "cell_type": "code",
   "execution_count": null,
   "metadata": {
    "collapsed": true
   },
   "outputs": [],
   "source": []
  }
 ],
 "metadata": {
  "kernelspec": {
   "display_name": "Python 3",
   "language": "python",
   "name": "python3"
  },
  "language_info": {
   "codemirror_mode": {
    "name": "ipython",
    "version": 3
   },
   "file_extension": ".py",
   "mimetype": "text/x-python",
   "name": "python",
   "nbconvert_exporter": "python",
   "pygments_lexer": "ipython3",
   "version": "3.4.3+"
  }
 },
 "nbformat": 4,
 "nbformat_minor": 0
}
