{
 "cells": [
  {
   "cell_type": "code",
   "execution_count": null,
   "metadata": {
    "collapsed": false
   },
   "outputs": [],
   "source": [
    "%matplotlib inline\n",
    "from pynq.pmods import PMOD_ADC\n",
    "import time\n",
    "import matplotlib.pyplot as plt\n",
    "\n",
    "# initialize ADC on PMOD 1 (JB).\n",
    "# The ADC DA4 has 4 input channels at 12 bit resolution, however only the first 3: \n",
    "# V1, V2 and V3 (form 0 to 2) can be used.\n",
    "# PMOD mapping is: PMOD 1 -> JB, PMOD 2 -> JC, PMOD 3 -> JD, PMOD 4 -> JE\n",
    "pmod_adc = PMOD_ADC(1)\n",
    "\n",
    "# read the tension value for V1 (V1 -> 0) and print it\n",
    "#value = pmod_adc.read(0)\n",
    "#print(\"Current voltage: \" + str(value) + \"V\")\n",
    "\n",
    "# start logging on V3 (V3 -> 2) with log interval of 1 ms\n",
    "# NOTE: the current driver allows to log only one input at a time,\n",
    "# to get data from multiple inputs at the same time you need to get them manually within a loop\n",
    "#2 è IL CANALE DI LETTURA , 10 INTERVALLO TRA OGNI CAMPIONE(ms)\n",
    "pmod_adc.start_log(2, 1)\n",
    "\n",
    "# TEMPO DI ACQUISIZIONE\n",
    "\n",
    "time.sleep(3)\n",
    "\n",
    "# get and stop logging\n",
    "values = pmod_adc.get_log()\n",
    "print(\"Voltage values: \" + str(values))\n",
    "\n",
    "# draw graph\n",
    "plt.plot(range(len(values)), values, 'r')\n",
    "plt.title('ADC data')\n",
    "plt.show()"
   ]
  },
  {
   "cell_type": "code",
   "execution_count": null,
   "metadata": {
    "collapsed": false
   },
   "outputs": [],
   "source": [
    "import numpy as np\n",
    "np.savetxt(\"Suono4.npy\",values)"
   ]
  },
  {
   "cell_type": "code",
   "execution_count": null,
   "metadata": {
    "collapsed": false
   },
   "outputs": [],
   "source": [
    "%matplotlib inline\n",
    "import numpy as np\n",
    "import pandas as pd\n",
    "import matplotlib.pyplot as plt\n",
    "segnale4=np.loadtxt(\"Suono4.npy\")\n",
    "segnale=np.loadtxt(\"Suono3.npy\")\n",
    "template=np.loadtxt(\"Suono2.npy\")\n",
    "print(len(segnale))\n",
    "\n",
    "mediasegnale2=pd.rolling_mean(template,50)\n",
    "mediasegnale3=pd.rolling_mean(segnale,50)\n",
    "np.savetxt(\"Template3.npy\",mediasegnale3[50:len(mediasegnale3)])\n",
    "mediasegnale4=pd.rolling_mean(segnale4,50)\n",
    "\n",
    "t=np.arange(0,len(segnale)*3,3)\n",
    "plt.plot(t,mediasegnale2,color='g')\n",
    "plt.plot(t,mediasegnale3,color='r')\n",
    "plt.plot(t,mediasegnale4,color='b')\n",
    "plt.show()\n",
    "\n",
    "    "
   ]
  },
  {
   "cell_type": "code",
   "execution_count": null,
   "metadata": {
    "collapsed": false
   },
   "outputs": [],
   "source": [
    "segnale=np.loadtxt(\"Suono.npy\")\n",
    "\n",
    "segnaleP=segnale-mediasegnale\n",
    "\n",
    "t=np.arange(0,len(segnale)*3,3)\n",
    "plt.figure(figsize=(10,10))\n",
    "plt.plot(t,segnaleP,color='g')\n",
    "plt.show()\n",
    "    "
   ]
  },
  {
   "cell_type": "code",
   "execution_count": null,
   "metadata": {
    "collapsed": false
   },
   "outputs": [],
   "source": [
    "totale=mediasegnale2+mediasegnale3+mediasegnale4\n",
    "media=totale/3\n",
    "media=media[50:1300//3]\n",
    "plt.plot(t[50:1300//3],media)\n",
    "plt.show()\n",
    "np.savetxt(\"Template.npy\",media)"
   ]
  },
  {
   "cell_type": "code",
   "execution_count": null,
   "metadata": {
    "collapsed": true
   },
   "outputs": [],
   "source": [
    "#cross-correlazione tra finestra con zero-padding e segnale \n",
    "%matplotlib inline\n",
    "import numpy as np\n",
    "import matplotlib.pyplot as plt\n",
    "from numpy.fft import rfft, irfft\n",
    "\n",
    "def calcoloCCR(data, arrwnd):\n",
    "\n",
    "#le due liste da confrontare devono avere stessa lunghezza\n",
    "\n",
    "    template=arrwnd.tolist()\n",
    "    \n",
    "    #Zero padding\n",
    "    for i in range (len(arrwnd),len(data)):\n",
    "        template.append(0)\n",
    "\n",
    "    # Fast Fourier Transform (FFT)\n",
    "    Data= rfft(data)\n",
    "   \n",
    "    # Inverto il vettore template\n",
    "    tempY = []\n",
    "    while len(template) > 0:\n",
    "        tempY.append(template.pop())\n",
    "    \n",
    "    Y = rfft(tempY)\n",
    "\n",
    "    # Faccio la formula inversa della FFT\n",
    "    CrossCorrelazione = irfft(Data*Y)\n",
    "    print(len(CrossCorrelazione))\n",
    "    \n",
    "    #Normalizzazione\n",
    "    DataSTD=np.nanstd(data)\n",
    "    TemSTD=np.nanstd(template)\n",
    "    print(DataSTD)\n",
    "    print(TemSTD)\n",
    "    \n",
    "    x=np.arange(len(CrossCorrelazione))\n",
    "    plt.plot(x,CrossCorrelazione)\n",
    "    plt.xlabel(\"Campioni\")\n",
    "    plt.ylabel(\"CrossCorrelazione\")\n",
    "    plt.show()"
   ]
  },
  {
   "cell_type": "code",
   "execution_count": null,
   "metadata": {
    "collapsed": true
   },
   "outputs": [],
   "source": [
    "segnale=np.loadtxt(\"Suono2.npy\")\n",
    "arrwnd=np.loadtxt(\"Template.npy\")\n",
    "calcoloCCR(segnale,arrwnd)"
   ]
  }
 ],
 "metadata": {
  "kernelspec": {
   "display_name": "Python 3",
   "language": "python",
   "name": "python3"
  },
  "language_info": {
   "codemirror_mode": {
    "name": "ipython",
    "version": 3
   },
   "file_extension": ".py",
   "mimetype": "text/x-python",
   "name": "python",
   "nbconvert_exporter": "python",
   "pygments_lexer": "ipython3",
   "version": "3.5.1"
  }
 },
 "nbformat": 4,
 "nbformat_minor": 0
}
