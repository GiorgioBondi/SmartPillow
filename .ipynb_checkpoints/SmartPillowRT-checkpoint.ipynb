{
 "cells": [
  {
   "cell_type": "code",
   "execution_count": null,
   "metadata": {
    "collapsed": true
   },
   "outputs": [],
   "source": [
    "%matplotlib inline\n",
    "from pynq.pmods import PMOD_ADC\n",
    "import time\n",
    "import matplotlib.pyplot as plt\n",
    "import pandas as pd\n",
    "\n",
    "# initialize ADC on PMOD 1 (JB).\n",
    "# The ADC DA4 has 4 input channels at 12 bit resolution, however only the first 3: \n",
    "# V1, V2 and V3 (form 0 to 2) can be used.\n",
    "# PMOD mapping is: PMOD 1 -> JB, PMOD 2 -> JC, PMOD 3 -> JD, PMOD 4 -> JE\n",
    "pmod_adc = PMOD_ADC(1)\n",
    "while (True):\n",
    "    try:\n",
    "# read the tension value for V1 (V1 -> 0) and print it\n",
    "#value = pmod_adc.read(0)\n",
    "#print(\"Current voltage: \" + str(value) + \"V\")\n",
    "\n",
    "# start logging on V3 (V3 -> 2) with log interval of 1 ms\n",
    "# NOTE: the current driver allows to log only one input at a time,\n",
    "# to get data from multiple inputs at the same time you need to get them manually within a loop\n",
    "#2 è IL CANALE DI LETTURA , 10 INTERVALLO TRA OGNI CAMPIONE(ms)\n",
    "        pmod_adc.start_log(2, 1)\n",
    "\n",
    "# TEMPO DI ACQUISIZIONE\n",
    "\n",
    "        time.sleep(3)\n",
    "\n",
    "# get and stop logging\n",
    "        values = pmod_adc.get_log()\n",
    "    \n",
    "        mean=pd.rolling_mean(values,50)\n",
    "        for i in range(len(mean)):\n",
    "        if mean[i]<0.15:\n",
    "            if mean[i-1]>=0.15:\n",
    "                print(\"Hai russato al tempo \"+str(i*3))\n",
    "            continue\n",
    "    except KeyboardInterrupt:\n",
    "    # exit without showing errors if the stop button in Jupyter is pressed\n",
    "        break\n"
   ]
  }
 ],
 "metadata": {
  "kernelspec": {
   "display_name": "Python 3",
   "language": "python",
   "name": "python3"
  },
  "language_info": {
   "codemirror_mode": {
    "name": "ipython",
    "version": 3
   },
   "file_extension": ".py",
   "mimetype": "text/x-python",
   "name": "python",
   "nbconvert_exporter": "python",
   "pygments_lexer": "ipython3",
   "version": "3.5.1"
  }
 },
 "nbformat": 4,
 "nbformat_minor": 0
}
