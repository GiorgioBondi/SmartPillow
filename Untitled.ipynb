{
 "cells": [
  {
   "cell_type": "code",
   "execution_count": null,
   "metadata": {
    "collapsed": true
   },
   "outputs": [],
   "source": [
    "%matplotlib inline\n",
    "import numpy as np\n",
    "import matplotlib.pyplot as plt\n",
    "import pandas as pd\n",
    "import scipy.signal as signal\n",
    "from numpy.fft import rfft, irfft\n",
    "\n",
    "arrwnd=np.loadtxt(\"FinestreRef.npy\")\n",
    "\n",
    "def calcoloCCR(data, arrwnd):\n",
    "\n",
    "#le due liste da confrontare devono avere stessa lunghezza\n",
    "\n",
    "    for i in range (len(arrwnd)):\n",
    "   \n",
    "        template=arrwnd[i].tolist()\n",
    "    \n",
    "    #Zero padding\n",
    "        for i in range (10,len(data)):\n",
    "            template.append(0)\n",
    "\n",
    "    # Fast Fourier Transform (FFT)\n",
    "        Data= rfft(data)\n",
    "   \n",
    "    # Inverto il vettore template\n",
    "        tempY = []\n",
    "        while len(template) > 0:\n",
    "            tempY.append(template.pop())\n",
    "    \n",
    "        Y = rfft(tempY)\n",
    "\n",
    "    # Faccio la formula inversa della FFT\n",
    "    \n",
    "        colpoDiSonno = False\n",
    "        \n",
    "        CrossCorrelazione = irfft(Data*Y)\n",
    "        if(max(CrossCorrelazione)>4):\n",
    "            colpoDiSonno = True\n",
    "            print(\"Avvenuto colpo di sonno\")\n",
    "            x=np.arange(0,len(data))\n",
    "            plt.plot(x,CrossCorrelazione)\n",
    "            plt.xlabel(\"Campioni\")\n",
    "            plt.ylabel(\"CrossCorrelazione\")\n",
    "            line1=plt.plot(x,[4]*(len(data)),'r')\n",
    "            plt.show()\n",
    "    return colpoDiSonno\n"
   ]
  },
  {
   "cell_type": "code",
   "execution_count": null,
   "metadata": {
    "collapsed": true
   },
   "outputs": [],
   "source": []
  }
 ],
 "metadata": {
  "kernelspec": {
   "display_name": "Python 3",
   "language": "python",
   "name": "python3"
  },
  "language_info": {
   "codemirror_mode": {
    "name": "ipython",
    "version": 3
   },
   "file_extension": ".py",
   "mimetype": "text/x-python",
   "name": "python",
   "nbconvert_exporter": "python",
   "pygments_lexer": "ipython3",
   "version": "3.5.1"
  }
 },
 "nbformat": 4,
 "nbformat_minor": 0
}
