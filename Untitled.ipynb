{
 "cells": [
  {
   "cell_type": "code",
   "execution_count": 1,
   "metadata": {
    "collapsed": false
   },
   "outputs": [
    {
     "name": "stdout",
     "output_type": "stream",
     "text": [
      "Inserisci la tua età\n",
      "30\n"
     ]
    }
   ],
   "source": [
    "%matplotlib inline\n",
<<<<<<< HEAD
    "from pynq.pmods import PMOD_ADC\n",
    "import time\n",
    "import matplotlib.pyplot as plt\n",
    "\n",
    "# initialize ADC on PMOD 1 (JB).\n",
    "# The ADC DA4 has 4 input channels at 12 bit resolution, however only the first 3: \n",
    "# V1, V2 and V3 (form 0 to 2) can be used.\n",
    "# PMOD mapping is: PMOD 1 -> JB, PMOD 2 -> JC, PMOD 3 -> JD, PMOD 4 -> JE\n",
    "pmod_adc = PMOD_ADC(1)\n",
    "\n",
    "# read the tension value for V1 (V1 -> 0) and print it\n",
    "#value = pmod_adc.read(0)\n",
    "#print(\"Current voltage: \" + str(value) + \"V\")\n",
    "\n",
    "# start logging on V3 (V3 -> 2) with log interval of 1 ms\n",
    "# NOTE: the current driver allows to log only one input at a time,\n",
    "# to get data from multiple inputs at the same time you need to get them manually within a loop\n",
    "#2 è IL CANALE DI LETTURA , 10 INTERVALLO TRA OGNI CAMPIONE(ms)\n",
    "pmod_adc.start_log(2, 1)\n",
    "\n",
    "# TEMPO DI ACQUISIZIONE\n",
    "\n",
    "time.sleep(3)\n",
    "\n",
    "# get and stop logging\n",
    "values = pmod_adc.get_log()\n",
    "print(\"Voltage values: \" + str(values))\n",
    "\n",
    "# draw graph\n",
    "plt.plot(range(len(values)), values, 'r')\n",
    "plt.title('ADC data')\n",
    "plt.show()"
   ]
  },
  {
   "cell_type": "code",
   "execution_count": null,
   "metadata": {
    "collapsed": true
   },
   "outputs": [],
   "source": [
    "import numpy as np\n",
    "np.savetxt(\"Suono4.npy\",values)"
   ]
  },
  {
   "cell_type": "code",
   "execution_count": null,
   "metadata": {
    "collapsed": true
   },
   "outputs": [],
   "source": [
    "%matplotlib inline\n",
    "import numpy as np\n",
    "import pandas as pd\n",
    "import matplotlib.pyplot as plt\n",
    "segnale4=np.loadtxt(\"Suono4.npy\")\n",
    "segnale=np.loadtxt(\"Suono3.npy\")\n",
    "template=np.loadtxt(\"Suono2.npy\")\n",
    "print(len(segnale))\n",
    "\n",
    "mediasegnale2=pd.rolling_mean(template,50)\n",
    "mediasegnale3=pd.rolling_mean(segnale,50)\n",
    "np.savetxt(\"Template3.npy\",mediasegnale3[50:len(mediasegnale3)])\n",
    "mediasegnale4=pd.rolling_mean(segnale4,50)\n",
    "\n",
    "t=np.arange(0,len(segnale)*3,3)\n",
    "plt.plot(t,mediasegnale2,color='g')\n",
    "plt.plot(t,mediasegnale3,color='r')\n",
    "plt.plot(t,mediasegnale4,color='b')\n",
    "plt.show()\n"
   ]
  },
  {
   "cell_type": "code",
   "execution_count": null,
   "metadata": {
    "collapsed": true
   },
   "outputs": [],
   "source": [
    "segnale=np.loadtxt(\"Suono.npy\")\n",
    "\n",
    "segnaleP=segnale-mediasegnale\n",
    "\n",
    "t=np.arange(0,len(segnale)*3,3)\n",
    "plt.figure(figsize=(10,10))\n",
    "plt.plot(t,segnaleP,color='g')\n",
    "plt.show()\n",
    "    "
   ]
  },
  {
   "cell_type": "code",
   "execution_count": null,
   "metadata": {
    "collapsed": true
   },
   "outputs": [],
   "source": [
    "totale=mediasegnale2+mediasegnale3+mediasegnale4\n",
    "media=totale/3\n",
    "media=media[50:1300//3]\n",
    "plt.plot(t[50:1300//3],media)\n",
    "plt.show()\n",
    "np.savetxt(\"Template.npy\",media)"
   ]
  },
  {
   "cell_type": "code",
   "execution_count": null,
   "metadata": {
    "collapsed": true
   },
   "outputs": [],
   "source": [
    "#cross-correlazione tra finestra con zero-padding e segnale \n",
    "%matplotlib inline\n",
    "import numpy as np\n",
    "import matplotlib.pyplot as plt\n",
    "from numpy.fft import rfft, irfft\n",
=======
    "\n",
    "from IPython import display\n",
    "from ipywidgets import widgets\n",
    "import numpy as np\n",
    "import matplotlib.pyplot as plt\n",
    "\n",
>>>>>>> b79c862ec447df7eb6f2e4c44965fb015a7e8170
    "\n",
    "\n",
    "import time\n",
    "\n",
    "\n",
    "display.display(widgets.HTML(\"Inserisci la tua età\"))\n",
    "text = widgets.Textarea()\n",
    "display.display(text)\n",
    "\n",
    "\n",
    "display.display(widgets.HTML(\"Seleziona il sesso\"))\n",
    "buttonGender = widgets.RadioButtons(options = [\"maschio\", \"femmina\"])\n",
    "display.display(buttonGender)\n",
    "\n",
    "\n",
    "\n",
    "display.display(widgets.HTML(\"Sei una persona atletica?\"))\n",
    "buttonAthl = widgets.RadioButtons (options = [\"sì\", \"no\"])\n",
    "display.display(buttonAthl)\n",
    "\n"
   ]
  },
  {
   "cell_type": "code",
   "execution_count": 2,
   "metadata": {
    "collapsed": false
   },
   "outputs": [
    {
     "name": "stdout",
     "output_type": "stream",
     "text": [
      "Number of heart beats: 14\n",
      "Heart beat frequency: 64.45 beats per minute\n",
      "Ora puoi fermare la misurazione premendo il tasto stop\n"
     ]
    },
    {
     "data": {
      "image/png": "iVBORw0KGgoAAAANSUhEUgAAAX0AAAEACAYAAABfxaZOAAAABHNCSVQICAgIfAhkiAAAAAlwSFlz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\nJpD/Dy1L2CqZsvWZAAAAAElFTkSuQmCC\n",
      "text/plain": [
       "<matplotlib.figure.Figure at 0x30ffff10>"
      ]
     },
     "metadata": {},
     "output_type": "display_data"
    }
   ],
   "source": [
    "l = list()\n",
    "from pynq.pmods import Grove_EarHR\n",
    "from pynq.board import LED\n",
    "import time\n",
    "import matplotlib.pyplot as plt\n",
    "from IPython import display\n",
    "\n",
    "# initialize ear clip heart rate sensor on PMOD 1 (JB) and grove id 4 (GR4).\n",
    "# PMOD mapping is: PMOD 1 -> JB, PMOD 2 -> JC, PMOD 3 -> JD, PMOD 4 -> JE\n",
    "\n",
    "def on_button_clicked (b):\n",
    "    global rate\n",
    "    earHR = Grove_EarHR(1, 4)\n",
    "\n",
    "# set up led for showing heart beats\n",
    "    led = LED(0)\n",
    "    led.off()\n",
    "\n",
<<<<<<< HEAD
    "    template=arrwnd.tolist()\n",
    "    \n",
    "    #Zero padding\n",
    "    for i in range (len(arrwnd),len(data)):\n",
    "        template.append(0)\n",
    "\n",
    "    # Fast Fourier Transform (FFT)\n",
    "    Data= rfft(data)\n",
    "   \n",
    "    # Inverto il vettore template\n",
    "    tempY = []\n",
    "    while len(template) > 0:\n",
    "        tempY.append(template.pop())\n",
    "    \n",
    "    Y = rfft(tempY)\n",
    "\n",
    "    # Faccio la formula inversa della FFT\n",
    "    CrossCorrelazione = irfft(Data*Y)\n",
    "    print(len(CrossCorrelazione))\n",
    "    \n",
    "    #Normalizzazione\n",
    "    DataSTD=np.nanstd(data)\n",
    "    TemSTD=np.nanstd(template)\n",
    "    print(DataSTD)\n",
    "    print(TemSTD)\n",
    "    \n",
    "    x=np.arange(len(CrossCorrelazione))\n",
    "    plt.plot(x,CrossCorrelazione)\n",
    "    plt.xlabel(\"Campioni\")\n",
    "    plt.ylabel(\"CrossCorrelazione\")\n",
    "    plt.show()"
=======
    "# read initial number of heart beats\n",
    "    beats, deltaT = earHR.read_raw()\n",
    "    oldBeats = beats\n",
    "    \n",
    "    start = time.time()\n",
    "    while(True):\n",
    "        try:\n",
    "            beats, deltaT = earHR.read_raw()\n",
    "            if(oldBeats == beats):\n",
    "            # same number of heart beats as previous iteration\n",
    "                led.off()\n",
    "            else:\n",
    "            # new heart beat detected!\n",
    "                led.on()\n",
    "        \n",
    "            oldBeats = beats\n",
    "            rate = earHR.read()\n",
    "        \n",
    "            display.clear_output(wait=True)\n",
    "            print(\"Number of heart beats: \" + str(beats))\n",
    "            print(\"Heart beat frequency: \" + str(round(rate,2)) + \" beats per minute\")\n",
    "            if (time.time()-start) > 30:\n",
    "                print(\"Ora puoi fermare la misurazione premendo il tasto stop\")\n",
    "            else:\n",
    "                print(\"Continua la misurazione\")\n",
    "        \n",
    "            time.sleep(0.1)\n",
    "        except KeyboardInterrupt:\n",
    "        # exit without showing errors if the stop button in Jupyter is pressed\n",
    "            break\n",
    "        \n",
    "        \n",
    "        if (rate != 0) and (rate < 250):\n",
    "            l.append(rate)\n",
    "        \n",
    "        xVal = np.arange(0, len(l), 1)\n",
    "        yVal=l\n",
    "        plt.plot(xVal, yVal)\n",
    "        plt.xlabel = (\"Numero misurazioni\")\n",
    "        \n",
    "        plt.grid(True)\n",
    "        plt.show\n",
    "        \n",
    "        \n",
    "        \n",
    "    \n",
    "    \n",
    "button = widgets.Button( description = \"inizia misurazione\")\n",
    "display.display(button)\n",
    "\n",
    "button.on_click(on_button_clicked)\n",
    "\n",
    "\n",
    "            \n",
    "            \n",
    "        "
   ]
  },
  {
   "cell_type": "code",
   "execution_count": 20,
   "metadata": {
    "collapsed": false
   },
   "outputs": [
    {
     "name": "stdout",
     "output_type": "stream",
     "text": [
      "La tua frequenza è : 78.64644161407767\n",
      "La tua frequenza cardiaca massima è: 158\n",
      "Valore nella norma\n",
      "Sei in una condizione di sforzo minimo\n"
     ]
    }
   ],
   "source": [
    "def MEDIA (lista):\n",
    "    somma = 0\n",
    "    \n",
    "    for i in lista:\n",
    "        somma+= i\n",
    "    media = somma / len(lista)\n",
    "    return media\n",
    "\n",
    "freq = MEDIA(l)\n",
    "print(\"La tua frequenza è : \"  + str (freq)) \n",
    "    \n",
    "\n",
    "\n",
    "def FCMAX (s, a):\n",
    "    if s == \"femmina\":\n",
    "        fm = 226 - a\n",
    "    else:\n",
    "        fm = 220 - a\n",
    "    print(\"La tua frequenza cardiaca massima è: \" + str(fm))\n",
    "    return fm\n",
    "\n",
    "age = text.value\n",
    "gender = buttonGender.value\n",
    "athl = buttonAthl.value\n",
    "\n",
    "FCmax = FCMAX(gender, age)\n",
    "\n",
    "\n",
    "\n",
    "a = int(FCmax)*0.9\n",
    "b = int(FCmax)*1.1\n",
    "if freq < b and freq > a:\n",
    "    print(\"Attenzione! Stai per superare la tua frequenza massima\")\n",
    "if freq < a and freq> 50:\n",
    "    print(\"Valore nella norma\")\n",
    "if freq < 50:\n",
    "    print(\"Attenzione! Frequenza cardiaca troppo bassa\")\n",
    "if freq > b:\n",
    "    print(\"Attenzione! Frequenza cardiaca troppo alta\")\n",
    "    \n",
    "    \n",
    "    \n",
    "    \n",
    "#facciamo un bottone per far scegliere al paziente se vuole verificare la sua soglia di sforzo \n",
    "    \n",
    "if freq < 0.60*FCmax:\n",
    "    print(\"Sei in una condizione di sforzo minimo\")\n",
    "if freq < 0.65*FCmax and freq > 0.6*FCmax or (athl == \"sì\" and freq < 0.8*FCmax):\n",
    "    print(\"Sei in una condizione di sforzo aerobico\")\n",
    "if (athl == \"sì\" and freq > 0.8*FCmax) or (athl==\"no\" and freq >0.65*FCmax):\n",
    "    print(\"Sei in una condizione di sforzo anaerobico\")\n",
    "\n"
   ]
  },
  {
   "cell_type": "code",
   "execution_count": 19,
   "metadata": {
    "collapsed": false
   },
   "outputs": [
    {
     "name": "stdout",
     "output_type": "stream",
     "text": [
      "[81.19079837618403, 81.19079837618403, 81.19079837618403, 81.19079837618403, 81.19079837618403, 81.19079837618403, 81.19079837618403, 81.19079837618403, 81.19079837618403, 81.19079837618403, 81.19079837618403, 81.19079837618403, 81.19079837618403, 81.19079837618403, 81.19079837618403, 81.19079837618403, 81.19079837618403, 81.19079837618403, 81.19079837618403, 75.56675062972292, 75.56675062972292, 75.56675062972292, 75.56675062972292, 75.56675062972292, 75.56675062972292, 75.56675062972292, 75.56675062972292, 75.56675062972292, 75.56675062972292, 75.56675062972292, 75.56675062972292, 75.56675062972292, 75.56675062972292, 75.56675062972292, 75.56675062972292, 75.56675062972292, 81.19079837618403, 81.19079837618403, 81.19079837618403, 81.19079837618403, 81.19079837618403, 81.19079837618403, 78.22685788787484, 78.22685788787484, 78.22685788787484, 78.22685788787484, 78.22685788787484, 78.22685788787484, 78.22685788787484, 70.6713780918728, 70.6713780918728, 70.6713780918728, 70.6713780918728, 70.6713780918728, 70.6713780918728, 70.6713780918728, 73.0816077953715, 73.0816077953715, 73.0816077953715, 73.0816077953715, 73.0816077953715, 73.0816077953715, 73.0816077953715, 75.56675062972292, 75.56675062972292, 75.56675062972292, 75.56675062972292, 75.56675062972292, 75.56675062972292, 84.26966292134831, 84.26966292134831, 84.26966292134831, 84.26966292134831, 84.26966292134831, 84.26966292134831, 87.71929824561404, 87.71929824561404, 87.71929824561404, 87.71929824561404, 87.71929824561404, 84.26966292134831, 84.26966292134831, 84.26966292134831, 84.26966292134831, 84.26966292134831, 84.26966292134831, 84.26966292134831, 78.22685788787484, 78.22685788787484, 78.22685788787484, 78.22685788787484, 78.22685788787484, 78.22685788787484, 78.22685788787484, 73.0816077953715, 73.0816077953715, 73.0816077953715, 73.0816077953715, 73.0816077953715, 73.0816077953715, 73.0816077953715, 73.0816077953715, 73.0816077953715, 73.0816077953715, 73.0816077953715, 73.0816077953715, 73.0816077953715, 81.19079837618403, 81.19079837618403, 81.19079837618403, 81.19079837618403, 81.19079837618403, 81.19079837618403, 84.26966292134831, 84.26966292134831, 84.26966292134831, 84.26966292134831, 84.26966292134831, 84.26966292134831, 81.19079837618403, 81.19079837618403, 81.19079837618403, 81.19079837618403, 81.19079837618403, 81.19079837618403, 78.22685788787484, 78.22685788787484, 78.22685788787484, 78.22685788787484, 78.22685788787484, 78.22685788787484]\n"
     ]
    }
   ],
   "source": [
    "print(l)"
>>>>>>> b79c862ec447df7eb6f2e4c44965fb015a7e8170
   ]
  },
  {
   "cell_type": "code",
   "execution_count": null,
   "metadata": {
    "collapsed": true
   },
   "outputs": [],
   "source": [
<<<<<<< HEAD
    "segnale=np.loadtxt(\"Suono2.npy\")\n",
    "arrwnd=np.loadtxt(\"Template.npy\")\n",
    "calcoloCCR(segnale,arrwnd)"
=======
    "l.append(rate)\n",
    "        \n",
    "        yVal=l\n",
    "        plt.plot(yVal, 'r^')\n",
    "        plt.show"
>>>>>>> b79c862ec447df7eb6f2e4c44965fb015a7e8170
   ]
  }
 ],
 "metadata": {
  "kernelspec": {
   "display_name": "Python 3",
   "language": "python",
   "name": "python3"
  },
  "language_info": {
   "codemirror_mode": {
    "name": "ipython",
    "version": 3
   },
   "file_extension": ".py",
   "mimetype": "text/x-python",
   "name": "python",
   "nbconvert_exporter": "python",
   "pygments_lexer": "ipython3",
   "version": "3.4.3+"
  }
 },
 "nbformat": 4,
 "nbformat_minor": 0
}
